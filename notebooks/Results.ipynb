{
 "cells": [
  {
   "cell_type": "code",
   "execution_count": 18,
   "metadata": {
    "ExecuteTime": {
     "end_time": "2020-07-20T04:36:57.935456Z",
     "start_time": "2020-07-20T04:36:47.836919Z"
    }
   },
   "outputs": [
    {
     "name": "stdout",
     "output_type": "stream",
     "text": [
      "The autoreload extension is already loaded. To reload it, use:\n",
      "  %reload_ext autoreload\n"
     ]
    }
   ],
   "source": [
    "%load_ext autoreload\n",
    "%autoreload 2\n",
    "\n",
    "import os\n",
    "import pandas as pd"
   ]
  },
  {
   "cell_type": "code",
   "execution_count": null,
   "metadata": {},
   "outputs": [],
   "source": [
    "# general notes:\n",
    "# command for mesh generation, ShapeNet: \n",
    "# python generate.py configs/domain_adaptation/chair_noDA.yaml --gpu 9\n",
    "\n",
    "# command for mesh generation, pix3d: \n",
    "# python generate.py configs/domain_adaptation/chair_noDA.yaml --gpu 9 --da --generation_dir generation_pix3d_no_bg\n",
    "\n",
    "# command for mesh evaluation, pix3d:\n",
    "# python eval_meshes.py configs/domain_adaptation/chair_noDA.yaml --gpu 9 --da --generation_dir generation_pix3d_no_bg\n",
    "\n",
    "\n",
    "# to visualize training logs: Remote:\n",
    "#cd OUTPUT_DIR\n",
    "#tensorboard --logdir ./logs --port 6006\n",
    "# local:\n",
    "# ssh -N -L localhost:8081:localhost:6006 drone@192.168.65.123"
   ]
  },
  {
   "cell_type": "code",
   "execution_count": 40,
   "metadata": {
    "ExecuteTime": {
     "end_time": "2020-07-26T00:25:11.132660Z",
     "start_time": "2020-07-26T00:25:11.087330Z"
    }
   },
   "outputs": [],
   "source": [
    "def show_csv_results(experiment_category, experiment_name, generation_dir, show_all_metrics = False):\n",
    "    exp_dir = \"../out/{}/{}/{}\".format(experiment_category, experiment_name, generation_dir)\n",
    "    summary_results_csv = pd.read_csv(os.path.join(exp_dir, \"eval_meshes.csv\"))\n",
    "    full_results_csv = pd.read_pickle(os.path.join(exp_dir, \"eval_meshes_full.pkl\"))\n",
    "    print(exp_dir)\n",
    "    display(summary_results_csv[[\"class name\", \"chamfer-L1 (mesh)\", \"iou (mesh)\", \"normals completeness (mesh)\"]])\n",
    "    if show_all_metrics:\n",
    "        display(summary_results_csv)"
   ]
  },
  {
   "cell_type": "code",
   "execution_count": 44,
   "metadata": {
    "ExecuteTime": {
     "end_time": "2020-07-26T00:43:40.439398Z",
     "start_time": "2020-07-26T00:43:40.346533Z"
    }
   },
   "outputs": [
    {
     "name": "stdout",
     "output_type": "stream",
     "text": [
      "../out/DA_related/onet_chair_no_DA/generation_pix3d_no_bg\n"
     ]
    },
    {
     "data": {
      "text/html": [
       "<div>\n",
       "<style scoped>\n",
       "    .dataframe tbody tr th:only-of-type {\n",
       "        vertical-align: middle;\n",
       "    }\n",
       "\n",
       "    .dataframe tbody tr th {\n",
       "        vertical-align: top;\n",
       "    }\n",
       "\n",
       "    .dataframe thead th {\n",
       "        text-align: right;\n",
       "    }\n",
       "</style>\n",
       "<table border=\"1\" class=\"dataframe\">\n",
       "  <thead>\n",
       "    <tr style=\"text-align: right;\">\n",
       "      <th></th>\n",
       "      <th>class name</th>\n",
       "      <th>chamfer-L1 (mesh)</th>\n",
       "      <th>iou (mesh)</th>\n",
       "      <th>normals completeness (mesh)</th>\n",
       "    </tr>\n",
       "  </thead>\n",
       "  <tbody>\n",
       "    <tr>\n",
       "      <th>0</th>\n",
       "      <td>NaN</td>\n",
       "      <td>0.053516</td>\n",
       "      <td>0.170488</td>\n",
       "      <td>0.69443</td>\n",
       "    </tr>\n",
       "  </tbody>\n",
       "</table>\n",
       "</div>"
      ],
      "text/plain": [
       "   class name  chamfer-L1 (mesh)  iou (mesh)  normals completeness (mesh)\n",
       "0         NaN           0.053516    0.170488                      0.69443"
      ]
     },
     "metadata": {},
     "output_type": "display_data"
    },
    {
     "name": "stdout",
     "output_type": "stream",
     "text": [
      "../out/DA_related/onet_chair_no_DA/generation_pix3d_bg\n"
     ]
    },
    {
     "data": {
      "text/html": [
       "<div>\n",
       "<style scoped>\n",
       "    .dataframe tbody tr th:only-of-type {\n",
       "        vertical-align: middle;\n",
       "    }\n",
       "\n",
       "    .dataframe tbody tr th {\n",
       "        vertical-align: top;\n",
       "    }\n",
       "\n",
       "    .dataframe thead th {\n",
       "        text-align: right;\n",
       "    }\n",
       "</style>\n",
       "<table border=\"1\" class=\"dataframe\">\n",
       "  <thead>\n",
       "    <tr style=\"text-align: right;\">\n",
       "      <th></th>\n",
       "      <th>class name</th>\n",
       "      <th>chamfer-L1 (mesh)</th>\n",
       "      <th>iou (mesh)</th>\n",
       "      <th>normals completeness (mesh)</th>\n",
       "    </tr>\n",
       "  </thead>\n",
       "  <tbody>\n",
       "    <tr>\n",
       "      <th>0</th>\n",
       "      <td>NaN</td>\n",
       "      <td>0.074493</td>\n",
       "      <td>0.116342</td>\n",
       "      <td>0.647714</td>\n",
       "    </tr>\n",
       "  </tbody>\n",
       "</table>\n",
       "</div>"
      ],
      "text/plain": [
       "   class name  chamfer-L1 (mesh)  iou (mesh)  normals completeness (mesh)\n",
       "0         NaN           0.074493    0.116342                     0.647714"
      ]
     },
     "metadata": {},
     "output_type": "display_data"
    },
    {
     "name": "stdout",
     "output_type": "stream",
     "text": [
      "../out/DA_related/onet_chair_no_DA/generation_shapenet\n"
     ]
    },
    {
     "data": {
      "text/html": [
       "<div>\n",
       "<style scoped>\n",
       "    .dataframe tbody tr th:only-of-type {\n",
       "        vertical-align: middle;\n",
       "    }\n",
       "\n",
       "    .dataframe tbody tr th {\n",
       "        vertical-align: top;\n",
       "    }\n",
       "\n",
       "    .dataframe thead th {\n",
       "        text-align: right;\n",
       "    }\n",
       "</style>\n",
       "<table border=\"1\" class=\"dataframe\">\n",
       "  <thead>\n",
       "    <tr style=\"text-align: right;\">\n",
       "      <th></th>\n",
       "      <th>class name</th>\n",
       "      <th>chamfer-L1 (mesh)</th>\n",
       "      <th>iou (mesh)</th>\n",
       "      <th>normals completeness (mesh)</th>\n",
       "    </tr>\n",
       "  </thead>\n",
       "  <tbody>\n",
       "    <tr>\n",
       "      <th>0</th>\n",
       "      <td>chair</td>\n",
       "      <td>0.021572</td>\n",
       "      <td>0.514263</td>\n",
       "      <td>0.81955</td>\n",
       "    </tr>\n",
       "  </tbody>\n",
       "</table>\n",
       "</div>"
      ],
      "text/plain": [
       "  class name  chamfer-L1 (mesh)  iou (mesh)  normals completeness (mesh)\n",
       "0      chair           0.021572    0.514263                      0.81955"
      ]
     },
     "metadata": {},
     "output_type": "display_data"
    }
   ],
   "source": [
    "show_csv_results(\"DA_related\", \"onet_chair_no_DA\", \"generation_pix3d_no_bg\")\n",
    "show_csv_results(\"DA_related\", \"onet_chair_no_DA\", \"generation_pix3d_bg\")\n",
    "show_csv_results(\"DA_related\", \"onet_chair_no_DA\", \"generation_shapenet\")"
   ]
  },
  {
   "cell_type": "code",
   "execution_count": 46,
   "metadata": {
    "ExecuteTime": {
     "end_time": "2020-07-26T03:36:30.533428Z",
     "start_time": "2020-07-26T03:36:29.886385Z"
    }
   },
   "outputs": [
    {
     "name": "stdout",
     "output_type": "stream",
     "text": [
      "../out/img/onet/generation_pix3d_no_bg\n"
     ]
    },
    {
     "data": {
      "text/html": [
       "<div>\n",
       "<style scoped>\n",
       "    .dataframe tbody tr th:only-of-type {\n",
       "        vertical-align: middle;\n",
       "    }\n",
       "\n",
       "    .dataframe tbody tr th {\n",
       "        vertical-align: top;\n",
       "    }\n",
       "\n",
       "    .dataframe thead th {\n",
       "        text-align: right;\n",
       "    }\n",
       "</style>\n",
       "<table border=\"1\" class=\"dataframe\">\n",
       "  <thead>\n",
       "    <tr style=\"text-align: right;\">\n",
       "      <th></th>\n",
       "      <th>class name</th>\n",
       "      <th>chamfer-L1 (mesh)</th>\n",
       "      <th>iou (mesh)</th>\n",
       "      <th>normals completeness (mesh)</th>\n",
       "    </tr>\n",
       "  </thead>\n",
       "  <tbody>\n",
       "    <tr>\n",
       "      <th>0</th>\n",
       "      <td>NaN</td>\n",
       "      <td>0.066663</td>\n",
       "      <td>0.167241</td>\n",
       "      <td>0.649492</td>\n",
       "    </tr>\n",
       "  </tbody>\n",
       "</table>\n",
       "</div>"
      ],
      "text/plain": [
       "   class name  chamfer-L1 (mesh)  iou (mesh)  normals completeness (mesh)\n",
       "0         NaN           0.066663    0.167241                     0.649492"
      ]
     },
     "metadata": {},
     "output_type": "display_data"
    },
    {
     "name": "stdout",
     "output_type": "stream",
     "text": [
      "../out/img/onet/generation_pix3d_bg\n"
     ]
    },
    {
     "data": {
      "text/html": [
       "<div>\n",
       "<style scoped>\n",
       "    .dataframe tbody tr th:only-of-type {\n",
       "        vertical-align: middle;\n",
       "    }\n",
       "\n",
       "    .dataframe tbody tr th {\n",
       "        vertical-align: top;\n",
       "    }\n",
       "\n",
       "    .dataframe thead th {\n",
       "        text-align: right;\n",
       "    }\n",
       "</style>\n",
       "<table border=\"1\" class=\"dataframe\">\n",
       "  <thead>\n",
       "    <tr style=\"text-align: right;\">\n",
       "      <th></th>\n",
       "      <th>class name</th>\n",
       "      <th>chamfer-L1 (mesh)</th>\n",
       "      <th>iou (mesh)</th>\n",
       "      <th>normals completeness (mesh)</th>\n",
       "    </tr>\n",
       "  </thead>\n",
       "  <tbody>\n",
       "    <tr>\n",
       "      <th>0</th>\n",
       "      <td>NaN</td>\n",
       "      <td>0.086762</td>\n",
       "      <td>0.11268</td>\n",
       "      <td>0.562568</td>\n",
       "    </tr>\n",
       "  </tbody>\n",
       "</table>\n",
       "</div>"
      ],
      "text/plain": [
       "   class name  chamfer-L1 (mesh)  iou (mesh)  normals completeness (mesh)\n",
       "0         NaN           0.086762     0.11268                     0.562568"
      ]
     },
     "metadata": {},
     "output_type": "display_data"
    },
    {
     "name": "stdout",
     "output_type": "stream",
     "text": [
      "../out/img/onet/generation_shapenet\n"
     ]
    },
    {
     "data": {
      "text/html": [
       "<div>\n",
       "<style scoped>\n",
       "    .dataframe tbody tr th:only-of-type {\n",
       "        vertical-align: middle;\n",
       "    }\n",
       "\n",
       "    .dataframe tbody tr th {\n",
       "        vertical-align: top;\n",
       "    }\n",
       "\n",
       "    .dataframe thead th {\n",
       "        text-align: right;\n",
       "    }\n",
       "</style>\n",
       "<table border=\"1\" class=\"dataframe\">\n",
       "  <thead>\n",
       "    <tr style=\"text-align: right;\">\n",
       "      <th></th>\n",
       "      <th>class name</th>\n",
       "      <th>chamfer-L1 (mesh)</th>\n",
       "      <th>iou (mesh)</th>\n",
       "      <th>normals completeness (mesh)</th>\n",
       "    </tr>\n",
       "  </thead>\n",
       "  <tbody>\n",
       "    <tr>\n",
       "      <th>0</th>\n",
       "      <td>airplane,aeroplane,plane</td>\n",
       "      <td>0.016342</td>\n",
       "      <td>0.568320</td>\n",
       "      <td>0.813805</td>\n",
       "    </tr>\n",
       "    <tr>\n",
       "      <th>1</th>\n",
       "      <td>bench</td>\n",
       "      <td>0.017042</td>\n",
       "      <td>0.469950</td>\n",
       "      <td>0.795782</td>\n",
       "    </tr>\n",
       "    <tr>\n",
       "      <th>2</th>\n",
       "      <td>cabinet</td>\n",
       "      <td>0.015967</td>\n",
       "      <td>0.745615</td>\n",
       "      <td>0.866541</td>\n",
       "    </tr>\n",
       "    <tr>\n",
       "      <th>3</th>\n",
       "      <td>car,auto,automobile,machine,motorcar</td>\n",
       "      <td>0.016371</td>\n",
       "      <td>0.736426</td>\n",
       "      <td>0.815981</td>\n",
       "    </tr>\n",
       "    <tr>\n",
       "      <th>4</th>\n",
       "      <td>chair</td>\n",
       "      <td>0.022339</td>\n",
       "      <td>0.519749</td>\n",
       "      <td>0.817049</td>\n",
       "    </tr>\n",
       "    <tr>\n",
       "      <th>5</th>\n",
       "      <td>display,video display</td>\n",
       "      <td>0.025298</td>\n",
       "      <td>0.543103</td>\n",
       "      <td>0.864804</td>\n",
       "    </tr>\n",
       "    <tr>\n",
       "      <th>6</th>\n",
       "      <td>lamp</td>\n",
       "      <td>0.039809</td>\n",
       "      <td>0.392514</td>\n",
       "      <td>0.735748</td>\n",
       "    </tr>\n",
       "    <tr>\n",
       "      <th>7</th>\n",
       "      <td>loudspeaker,speaker,speaker unit,loudspeaker s...</td>\n",
       "      <td>0.026950</td>\n",
       "      <td>0.678112</td>\n",
       "      <td>0.830564</td>\n",
       "    </tr>\n",
       "    <tr>\n",
       "      <th>8</th>\n",
       "      <td>rifle</td>\n",
       "      <td>0.015147</td>\n",
       "      <td>0.460341</td>\n",
       "      <td>0.764447</td>\n",
       "    </tr>\n",
       "    <tr>\n",
       "      <th>9</th>\n",
       "      <td>sofa,couch,lounge</td>\n",
       "      <td>0.019066</td>\n",
       "      <td>0.688448</td>\n",
       "      <td>0.861723</td>\n",
       "    </tr>\n",
       "    <tr>\n",
       "      <th>10</th>\n",
       "      <td>table</td>\n",
       "      <td>0.018907</td>\n",
       "      <td>0.524402</td>\n",
       "      <td>0.858199</td>\n",
       "    </tr>\n",
       "    <tr>\n",
       "      <th>11</th>\n",
       "      <td>telephone,phone,telephone set</td>\n",
       "      <td>0.013533</td>\n",
       "      <td>0.740427</td>\n",
       "      <td>0.929644</td>\n",
       "    </tr>\n",
       "    <tr>\n",
       "      <th>12</th>\n",
       "      <td>vessel,watercraft</td>\n",
       "      <td>0.021485</td>\n",
       "      <td>0.552208</td>\n",
       "      <td>0.775608</td>\n",
       "    </tr>\n",
       "  </tbody>\n",
       "</table>\n",
       "</div>"
      ],
      "text/plain": [
       "                                           class name  chamfer-L1 (mesh)  \\\n",
       "0                            airplane,aeroplane,plane           0.016342   \n",
       "1                                               bench           0.017042   \n",
       "2                                             cabinet           0.015967   \n",
       "3                car,auto,automobile,machine,motorcar           0.016371   \n",
       "4                                               chair           0.022339   \n",
       "5                               display,video display           0.025298   \n",
       "6                                                lamp           0.039809   \n",
       "7   loudspeaker,speaker,speaker unit,loudspeaker s...           0.026950   \n",
       "8                                               rifle           0.015147   \n",
       "9                                   sofa,couch,lounge           0.019066   \n",
       "10                                              table           0.018907   \n",
       "11                      telephone,phone,telephone set           0.013533   \n",
       "12                                  vessel,watercraft           0.021485   \n",
       "\n",
       "    iou (mesh)  normals completeness (mesh)  \n",
       "0     0.568320                     0.813805  \n",
       "1     0.469950                     0.795782  \n",
       "2     0.745615                     0.866541  \n",
       "3     0.736426                     0.815981  \n",
       "4     0.519749                     0.817049  \n",
       "5     0.543103                     0.864804  \n",
       "6     0.392514                     0.735748  \n",
       "7     0.678112                     0.830564  \n",
       "8     0.460341                     0.764447  \n",
       "9     0.688448                     0.861723  \n",
       "10    0.524402                     0.858199  \n",
       "11    0.740427                     0.929644  \n",
       "12    0.552208                     0.775608  "
      ]
     },
     "metadata": {},
     "output_type": "display_data"
    }
   ],
   "source": [
    "show_csv_results(\"img\", \"onet\", \"generation_pix3d_no_bg\")\n",
    "show_csv_results(\"img\", \"onet\", \"generation_pix3d_bg\")\n",
    "show_csv_results(\"img\", \"onet\", \"generation_shapenet\")"
   ]
  },
  {
   "cell_type": "code",
   "execution_count": 47,
   "metadata": {
    "ExecuteTime": {
     "end_time": "2020-07-27T09:36:14.635174Z",
     "start_time": "2020-07-27T09:36:14.320617Z"
    }
   },
   "outputs": [
    {
     "name": "stdout",
     "output_type": "stream",
     "text": [
      "[1, 2, 3, 5, 5, 6]\n"
     ]
    }
   ],
   "source": [
    "x = [1,2,3]\n",
    "y = [5,5,6]\n",
    "print(x+y)"
   ]
  },
  {
   "cell_type": "code",
   "execution_count": null,
   "metadata": {},
   "outputs": [],
   "source": []
  },
  {
   "cell_type": "code",
   "execution_count": null,
   "metadata": {},
   "outputs": [],
   "source": []
  }
 ],
 "metadata": {
  "kernelspec": {
   "display_name": "Python 3",
   "language": "python",
   "name": "python3"
  },
  "language_info": {
   "codemirror_mode": {
    "name": "ipython",
    "version": 3
   },
   "file_extension": ".py",
   "mimetype": "text/x-python",
   "name": "python",
   "nbconvert_exporter": "python",
   "pygments_lexer": "ipython3",
   "version": "3.7.6"
  }
 },
 "nbformat": 4,
 "nbformat_minor": 4
}
