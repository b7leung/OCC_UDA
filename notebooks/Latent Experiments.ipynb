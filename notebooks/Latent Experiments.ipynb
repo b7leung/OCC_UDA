{
 "cells": [
  {
   "cell_type": "code",
   "execution_count": 5,
   "metadata": {
    "ExecuteTime": {
     "end_time": "2020-08-05T11:20:20.546301Z",
     "start_time": "2020-08-05T11:20:20.153551Z"
    }
   },
   "outputs": [],
   "source": [
    "%load_ext autoreload\n",
    "%autoreload 2"
   ]
  },
  {
   "cell_type": "code",
   "execution_count": 63,
   "metadata": {
    "ExecuteTime": {
     "end_time": "2020-08-05T12:08:36.386049Z",
     "start_time": "2020-08-05T12:08:36.304953Z"
    }
   },
   "outputs": [],
   "source": [
    "import os\n",
    "# need to set gpus before anything involving pytorch\n",
    "os.environ[\"CUDA_VISIBLE_DEVICES\"] = '7'\n",
    "\n",
    "import torch\n",
    "import pprint\n",
    "from sklearn.manifold import TSNE\n",
    "from sklearn.decomposition import PCA\n",
    "import pandas as pd\n",
    "import numpy as np\n",
    "from tqdm import tqdm\n",
    "import pickle\n",
    "import matplotlib.pyplot as plt\n",
    "\n",
    "os.chdir('/data7/brandon/research/DA_MVR/occ_net/occupancy_networks')\n",
    "from im2mesh import config\n",
    "from im2mesh.checkpoints import CheckpointIO\n",
    "from im2mesh.utils.libmise import MISE"
   ]
  },
  {
   "cell_type": "code",
   "execution_count": 39,
   "metadata": {
    "ExecuteTime": {
     "end_time": "2020-08-05T11:52:14.811489Z",
     "start_time": "2020-08-05T11:52:14.737455Z"
    }
   },
   "outputs": [],
   "source": [
    "# da is a boolean indicating to use the target dataset or not\n",
    "# returns latent vectors, and their image names\n",
    "def get_latent_vecs(config_yaml, da):\n",
    "    device = torch.device(\"cuda\")\n",
    "    cfg = config.load_config(config_yaml, 'configs/default.yaml')\n",
    "    \n",
    "    dataset = config.get_dataset('test', cfg, return_idx=True, use_target_domain = da)\n",
    "    model = config.get_model(cfg, device=device, dataset=dataset)\n",
    "    out_dir = cfg['training']['out_dir']\n",
    "    checkpoint_io = CheckpointIO(out_dir, model=model)\n",
    "    # load with 'cuda:0' because we set visible devices earlier\n",
    "    checkpoint_io.load(cfg['test']['model_file'], 'cuda:0')\n",
    "    test_loader = torch.utils.data.DataLoader(dataset, batch_size=1, num_workers=0, shuffle=False)\n",
    "    generator = config.get_generator(model, cfg, device=device)\n",
    "    model.eval()\n",
    "    \n",
    "    latent_vecs = []\n",
    "    model_names = []\n",
    "    for it, data in enumerate(tqdm(test_loader)):\n",
    "        with torch.no_grad():\n",
    "            # get model name info\n",
    "            idx = data['idx'].item()\n",
    "            model_dict = dataset.get_model_dict(idx)\n",
    "            modelname = model_dict['model']\n",
    "            model_names.append(modelname)\n",
    "            \n",
    "            # get latent vector from data\n",
    "            inputs = data.get('inputs', torch.empty(1, 0)).to(device)\n",
    "            c = model.encode_inputs(inputs)\n",
    "            #latent_vecs.append(c.cpu().detach().numpy())\n",
    "            latent_vecs.append(c)\n",
    "            \n",
    "    return latent_vecs, model_names"
   ]
  },
  {
   "cell_type": "code",
   "execution_count": 31,
   "metadata": {
    "ExecuteTime": {
     "end_time": "2020-08-05T11:43:28.804805Z",
     "start_time": "2020-08-05T11:43:28.375032Z"
    }
   },
   "outputs": [],
   "source": [
    "def generate_latent_mesh(c, mesh_save_path, config_yaml):\n",
    "    device = torch.device(\"cuda\")\n",
    "    cfg = config.load_config(config_yaml, 'configs/default.yaml')\n",
    "    model = config.get_model(cfg, device=device)\n",
    "    out_dir = cfg['training']['out_dir']\n",
    "    checkpoint_io = CheckpointIO(out_dir, model=model)\n",
    "    # load with 'cuda:0' because we set visible devices earlier\n",
    "    checkpoint_io.load(cfg['test']['model_file'], 'cuda:0')\n",
    "    generator = config.get_generator(model, cfg, device=device)\n",
    "    model.eval()\n",
    "    \n",
    "    with torch.no_grad():\n",
    "        z = model.get_z_from_prior((1,), sample=False).to(device)\n",
    "        mesh = generator.generate_from_latent(z, c)\n",
    "        mesh.export(mesh_save_path)"
   ]
  },
  {
   "cell_type": "code",
   "execution_count": 37,
   "metadata": {
    "ExecuteTime": {
     "end_time": "2020-08-05T11:52:03.468783Z",
     "start_time": "2020-08-05T11:52:03.078884Z"
    }
   },
   "outputs": [],
   "source": [
    "yaml = \"out/DA_related/onet_chair_no_DA/chair_noDA.yaml\"\n",
    "base_out_dir =  os.path.join(\"notebooks\", \"latent_models\")"
   ]
  },
  {
   "cell_type": "code",
   "execution_count": 40,
   "metadata": {
    "ExecuteTime": {
     "end_time": "2020-08-05T11:54:10.814887Z",
     "start_time": "2020-08-05T11:52:21.985090Z"
    }
   },
   "outputs": [
    {
     "name": "stderr",
     "output_type": "stream",
     "text": [
      "\r",
      "  0%|          | 0/1355 [00:00<?, ?it/s]"
     ]
    },
    {
     "name": "stdout",
     "output_type": "stream",
     "text": [
      "out/DA_related/onet_chair_no_DA/model_best.pt\n",
      "=> Loading checkpoint from local file...\n"
     ]
    },
    {
     "name": "stderr",
     "output_type": "stream",
     "text": [
      "100%|██████████| 1355/1355 [01:48<00:00, 12.54it/s]\n"
     ]
    }
   ],
   "source": [
    "latent_vecs, model_names = get_latent_vecs(yaml, False)"
   ]
  },
  {
   "cell_type": "code",
   "execution_count": 26,
   "metadata": {
    "ExecuteTime": {
     "end_time": "2020-08-05T11:33:12.331699Z",
     "start_time": "2020-08-05T11:32:57.852511Z"
    }
   },
   "outputs": [
    {
     "name": "stdout",
     "output_type": "stream",
     "text": [
      "out/DA_related/onet_chair_no_DA/model_best.pt\n",
      "=> Loading checkpoint from local file...\n",
      "out/DA_related/onet_chair_no_DA/model_best.pt\n",
      "=> Loading checkpoint from local file...\n",
      "out/DA_related/onet_chair_no_DA/model_best.pt\n",
      "=> Loading checkpoint from local file...\n",
      "out/DA_related/onet_chair_no_DA/model_best.pt\n",
      "=> Loading checkpoint from local file...\n",
      "out/DA_related/onet_chair_no_DA/model_best.pt\n",
      "=> Loading checkpoint from local file...\n",
      "out/DA_related/onet_chair_no_DA/model_best.pt\n",
      "=> Loading checkpoint from local file...\n",
      "out/DA_related/onet_chair_no_DA/model_best.pt\n",
      "=> Loading checkpoint from local file...\n"
     ]
    }
   ],
   "source": [
    "# generate a bunch of examples from latent\n",
    "for i in range(len(model_names)):\n",
    "    model_path = os.path.join(base_out_dir, \"{}_{}.off\".format(i,model_names[i]))\n",
    "    generate_latent_mesh(latent_vecs[i], model_path, yaml)"
   ]
  },
  {
   "cell_type": "markdown",
   "metadata": {},
   "source": [
    "# Interpolation"
   ]
  },
  {
   "cell_type": "code",
   "execution_count": 36,
   "metadata": {
    "ExecuteTime": {
     "end_time": "2020-08-05T11:49:30.408525Z",
     "start_time": "2020-08-05T11:49:17.173381Z"
    }
   },
   "outputs": [
    {
     "name": "stdout",
     "output_type": "stream",
     "text": [
      "out/DA_related/onet_chair_no_DA/model_best.pt\n",
      "=> Loading checkpoint from local file...\n",
      "out/DA_related/onet_chair_no_DA/model_best.pt\n",
      "=> Loading checkpoint from local file...\n",
      "out/DA_related/onet_chair_no_DA/model_best.pt\n",
      "=> Loading checkpoint from local file...\n",
      "out/DA_related/onet_chair_no_DA/model_best.pt\n",
      "=> Loading checkpoint from local file...\n",
      "out/DA_related/onet_chair_no_DA/model_best.pt\n",
      "=> Loading checkpoint from local file...\n",
      "out/DA_related/onet_chair_no_DA/model_best.pt\n",
      "=> Loading checkpoint from local file...\n",
      "out/DA_related/onet_chair_no_DA/model_best.pt\n",
      "=> Loading checkpoint from local file...\n"
     ]
    }
   ],
   "source": [
    "# interpolate between two latent codes\n",
    "i1 = 0\n",
    "i2 = 2\n",
    "num_steps = 5 # number of steps in between the original codes\n",
    "interpolate_dir = os.path.join(base_out_dir, \"{}_{}\".format(model_names[i1], model_names[i2]))\n",
    "os.makedirs(interpolate_dir)\n",
    "for i,lam in enumerate(np.linspace(0,1,num_steps+2)):\n",
    "    model_path = os.path.join(interpolate_dir, \"{}_{}_{}.off\".format(i,model_names[i1], model_names[i2]))\n",
    "    generate_latent_mesh(latent_vecs[i1]*lam + latent_vecs[i2]*(1-lam), model_path, yaml)"
   ]
  },
  {
   "cell_type": "markdown",
   "metadata": {},
   "source": [
    "# Latent mean and variance"
   ]
  },
  {
   "cell_type": "code",
   "execution_count": 80,
   "metadata": {
    "ExecuteTime": {
     "end_time": "2020-08-05T22:01:02.523571Z",
     "start_time": "2020-08-05T22:01:02.368497Z"
    }
   },
   "outputs": [
    {
     "name": "stdout",
     "output_type": "stream",
     "text": [
      "feature idx: 221, variance: 2.82319364072021\n",
      "feature idx: 145, variance: 1.5541768688292505\n",
      "feature idx: 218, variance: 1.46139833544985\n",
      "feature idx: 185, variance: 1.2414991227688759\n",
      "feature idx: 141, variance: 0.620156031649313\n",
      "feature idx: 187, variance: 0.6088221295872903\n",
      "feature idx: 48, variance: 0.4703418652781676\n",
      "feature idx: 169, variance: 0.4690658837643483\n",
      "feature idx: 80, variance: 0.44554964511368145\n",
      "feature idx: 231, variance: 0.4340642027239793\n",
      "feature idx: 61, variance: 0.3014981142032815\n",
      "feature idx: 252, variance: 0.28873795116458306\n",
      "feature idx: 45, variance: 0.23520061473848353\n",
      "feature idx: 148, variance: 0.23027132353959215\n",
      "feature idx: 89, variance: 0.21046432964145165\n",
      "feature idx: 92, variance: 0.19195900813116074\n",
      "feature idx: 125, variance: 0.1756902414224831\n",
      "feature idx: 75, variance: 0.1664868571682186\n",
      "feature idx: 115, variance: 0.14971062689226977\n",
      "feature idx: 232, variance: 0.1488951881811841\n",
      "feature idx: 130, variance: 0.14613640976920492\n",
      "feature idx: 65, variance: 0.1452771370598406\n",
      "feature idx: 227, variance: 0.14501281397199164\n",
      "feature idx: 178, variance: 0.14031178267895575\n",
      "feature idx: 7, variance: 0.1397486869630513\n",
      "feature idx: 16, variance: 0.13086962721016568\n",
      "feature idx: 236, variance: 0.1259424968811061\n",
      "feature idx: 70, variance: 0.1255312149068468\n",
      "feature idx: 225, variance: 0.12445825144168077\n",
      "feature idx: 161, variance: 0.12119662224335549\n",
      "feature idx: 19, variance: 0.12056114919634826\n",
      "feature idx: 213, variance: 0.12045635896682061\n",
      "feature idx: 166, variance: 0.1128254041795875\n",
      "feature idx: 102, variance: 0.11209250543333885\n",
      "feature idx: 37, variance: 0.10855230868278634\n",
      "feature idx: 146, variance: 0.10195687837479347\n",
      "feature idx: 98, variance: 0.09888716109777825\n",
      "feature idx: 81, variance: 0.096253711457754\n",
      "feature idx: 35, variance: 0.0941888497307971\n",
      "feature idx: 142, variance: 0.09268702420898756\n",
      "feature idx: 118, variance: 0.09002161432234834\n",
      "feature idx: 133, variance: 0.08609240994197707\n",
      "feature idx: 66, variance: 0.08358862730842685\n",
      "feature idx: 87, variance: 0.08109994661625876\n",
      "feature idx: 250, variance: 0.0793601644392468\n",
      "feature idx: 149, variance: 0.07464513604142359\n",
      "feature idx: 12, variance: 0.0703941534964768\n",
      "feature idx: 114, variance: 0.06912392275315117\n",
      "feature idx: 165, variance: 0.06908760686937129\n",
      "feature idx: 28, variance: 0.06887330045801383\n",
      "feature idx: 208, variance: 0.06751340781966257\n",
      "feature idx: 90, variance: 0.0658063003656303\n",
      "feature idx: 46, variance: 0.0655248068127859\n",
      "feature idx: 180, variance: 0.06510641887253553\n",
      "feature idx: 117, variance: 0.06453946114209358\n",
      "feature idx: 113, variance: 0.06448402357806977\n",
      "feature idx: 126, variance: 0.06403456168471801\n",
      "feature idx: 192, variance: 0.06230376711355682\n",
      "feature idx: 14, variance: 0.06012177240110578\n",
      "feature idx: 5, variance: 0.060116629899711206\n",
      "feature idx: 249, variance: 0.05964379608238083\n",
      "feature idx: 39, variance: 0.059530913494273606\n",
      "feature idx: 40, variance: 0.05916981169684922\n",
      "feature idx: 147, variance: 0.05902201504499595\n",
      "feature idx: 30, variance: 0.058607382651862806\n",
      "feature idx: 73, variance: 0.05845203470714072\n",
      "feature idx: 186, variance: 0.05833265331266063\n",
      "feature idx: 50, variance: 0.05785130504431323\n",
      "feature idx: 110, variance: 0.057659396319289916\n",
      "feature idx: 174, variance: 0.057139487513656405\n",
      "feature idx: 204, variance: 0.05702024385503143\n",
      "feature idx: 91, variance: 0.056986075950795634\n",
      "feature idx: 123, variance: 0.056875432836747064\n",
      "feature idx: 155, variance: 0.05653356838875507\n",
      "feature idx: 246, variance: 0.05628123650529867\n",
      "feature idx: 255, variance: 0.05585098152638194\n",
      "feature idx: 104, variance: 0.05536296846977709\n",
      "feature idx: 47, variance: 0.0552437503725083\n",
      "feature idx: 99, variance: 0.054881978076993514\n",
      "feature idx: 72, variance: 0.05420852814880104\n",
      "feature idx: 43, variance: 0.05420499024985625\n",
      "feature idx: 116, variance: 0.05398349344732788\n",
      "feature idx: 31, variance: 0.05291118940544278\n",
      "feature idx: 160, variance: 0.052844091649023005\n",
      "feature idx: 106, variance: 0.05188265304661573\n",
      "feature idx: 209, variance: 0.05121048641005174\n",
      "feature idx: 207, variance: 0.051168654753803396\n",
      "feature idx: 64, variance: 0.051020685200009804\n",
      "feature idx: 51, variance: 0.05100738008251562\n",
      "feature idx: 94, variance: 0.05048988600242794\n",
      "feature idx: 171, variance: 0.0503396348432202\n",
      "feature idx: 177, variance: 0.05023301037101939\n",
      "feature idx: 193, variance: 0.050164010093440244\n",
      "feature idx: 222, variance: 0.05009956684396387\n",
      "feature idx: 53, variance: 0.04978999809557141\n",
      "feature idx: 215, variance: 0.049697200685290426\n",
      "feature idx: 175, variance: 0.049455291853737635\n",
      "feature idx: 194, variance: 0.04935915350078769\n",
      "feature idx: 244, variance: 0.04912213689850864\n",
      "feature idx: 82, variance: 0.04879755324537101\n",
      "feature idx: 128, variance: 0.048258774334510125\n",
      "feature idx: 49, variance: 0.047839465439295466\n",
      "feature idx: 199, variance: 0.04753873588004172\n",
      "feature idx: 214, variance: 0.0475060380924572\n",
      "feature idx: 168, variance: 0.04749425476815919\n",
      "feature idx: 224, variance: 0.04742567412366625\n",
      "feature idx: 239, variance: 0.04727307961381248\n",
      "feature idx: 0, variance: 0.047206077576165316\n",
      "feature idx: 38, variance: 0.04712013412589963\n",
      "feature idx: 170, variance: 0.046341803687300044\n",
      "feature idx: 25, variance: 0.04628104021124095\n",
      "feature idx: 201, variance: 0.04620629986512413\n",
      "feature idx: 127, variance: 0.046105990716250635\n",
      "feature idx: 69, variance: 0.045987349921360124\n",
      "feature idx: 181, variance: 0.04570967685896135\n",
      "feature idx: 182, variance: 0.04546114010975666\n",
      "feature idx: 22, variance: 0.04544176489181551\n",
      "feature idx: 230, variance: 0.04497664518614915\n",
      "feature idx: 18, variance: 0.044761071850829025\n",
      "feature idx: 226, variance: 0.04468150071967067\n",
      "feature idx: 24, variance: 0.044450247516282904\n",
      "feature idx: 119, variance: 0.044224983297466824\n",
      "feature idx: 55, variance: 0.04389602613802366\n",
      "feature idx: 241, variance: 0.04350654920683765\n",
      "feature idx: 200, variance: 0.0434852238583917\n",
      "feature idx: 248, variance: 0.043417962168767046\n",
      "feature idx: 52, variance: 0.043284624073110387\n",
      "feature idx: 138, variance: 0.04306854903025423\n",
      "feature idx: 188, variance: 0.0427996873587064\n",
      "feature idx: 172, variance: 0.0424277673567162\n",
      "feature idx: 203, variance: 0.04181136482737898\n",
      "feature idx: 216, variance: 0.04160048093641731\n",
      "feature idx: 6, variance: 0.04155717217035928\n",
      "feature idx: 137, variance: 0.041517570133866644\n",
      "feature idx: 121, variance: 0.041443419908509346\n",
      "feature idx: 184, variance: 0.04122336112445715\n",
      "feature idx: 143, variance: 0.04117964970317159\n",
      "feature idx: 164, variance: 0.041072189677528764\n",
      "feature idx: 11, variance: 0.04048683592588025\n",
      "feature idx: 154, variance: 0.04044531926289728\n",
      "feature idx: 36, variance: 0.04036240967105472\n",
      "feature idx: 3, variance: 0.0401523433411494\n",
      "feature idx: 26, variance: 0.040113364269028354\n",
      "feature idx: 144, variance: 0.04007642172080249\n",
      "feature idx: 211, variance: 0.03989333568127617\n",
      "feature idx: 251, variance: 0.039786455062404004\n",
      "feature idx: 254, variance: 0.0397307410615069\n",
      "feature idx: 196, variance: 0.03962606929584375\n",
      "feature idx: 56, variance: 0.039488961800129826\n",
      "feature idx: 235, variance: 0.03946945542880859\n",
      "feature idx: 1, variance: 0.039140793477603436\n",
      "feature idx: 179, variance: 0.03912354139622584\n",
      "feature idx: 242, variance: 0.038818993246007884\n",
      "feature idx: 190, variance: 0.038780486077147756\n",
      "feature idx: 100, variance: 0.038449815258158215\n",
      "feature idx: 223, variance: 0.038362272456544035\n",
      "feature idx: 176, variance: 0.03819298549781555\n",
      "feature idx: 42, variance: 0.03819013652343359\n",
      "feature idx: 27, variance: 0.03804066953172324\n",
      "feature idx: 122, variance: 0.03803777549778399\n",
      "feature idx: 228, variance: 0.037998343546590894\n",
      "feature idx: 95, variance: 0.037390739052936585\n",
      "feature idx: 54, variance: 0.037009195151994585\n",
      "feature idx: 234, variance: 0.03672179206762572\n",
      "feature idx: 32, variance: 0.036555176454273024\n",
      "feature idx: 76, variance: 0.03633399720979656\n",
      "feature idx: 101, variance: 0.036210274488692566\n",
      "feature idx: 62, variance: 0.03615320931012956\n",
      "feature idx: 8, variance: 0.03614191713467845\n",
      "feature idx: 33, variance: 0.03613870209843351\n",
      "feature idx: 112, variance: 0.03592049156407174\n",
      "feature idx: 10, variance: 0.03591400804917777\n",
      "feature idx: 189, variance: 0.035755304197801846\n",
      "feature idx: 86, variance: 0.03564248663339819\n",
      "feature idx: 205, variance: 0.03549848815583311\n",
      "feature idx: 29, variance: 0.03522554082951023\n",
      "feature idx: 85, variance: 0.03514626740192382\n",
      "feature idx: 136, variance: 0.035143397625667205\n",
      "feature idx: 220, variance: 0.03506788684430915\n",
      "feature idx: 151, variance: 0.03502570987402541\n",
      "feature idx: 57, variance: 0.03502128536680517\n",
      "feature idx: 124, variance: 0.035007781139686694\n",
      "feature idx: 93, variance: 0.03500017930200694\n",
      "feature idx: 20, variance: 0.03492424706554334\n",
      "feature idx: 107, variance: 0.03479483994065429\n",
      "feature idx: 217, variance: 0.03463611201259906\n",
      "feature idx: 163, variance: 0.034477780367955395\n",
      "feature idx: 157, variance: 0.03440251074784562\n",
      "feature idx: 21, variance: 0.03425945387006723\n",
      "feature idx: 132, variance: 0.0339574209121241\n",
      "feature idx: 139, variance: 0.03366330991553582\n",
      "feature idx: 135, variance: 0.033620710092624566\n",
      "feature idx: 183, variance: 0.03354545628816561\n",
      "feature idx: 63, variance: 0.033104314751952885\n",
      "feature idx: 237, variance: 0.032168368097897686\n",
      "feature idx: 195, variance: 0.03209230726128622\n",
      "feature idx: 210, variance: 0.03193728703285549\n",
      "feature idx: 68, variance: 0.03193712200372092\n",
      "feature idx: 245, variance: 0.03175277374807532\n",
      "feature idx: 233, variance: 0.03127590035319109\n",
      "feature idx: 243, variance: 0.030759705362221328\n",
      "feature idx: 153, variance: 0.030698746686227033\n",
      "feature idx: 152, variance: 0.030663385736824155\n",
      "feature idx: 111, variance: 0.030242787280681867\n",
      "feature idx: 156, variance: 0.029982472281141516\n",
      "feature idx: 83, variance: 0.029941841822626984\n",
      "feature idx: 206, variance: 0.029495891655048224\n",
      "feature idx: 15, variance: 0.029352014360308595\n",
      "feature idx: 253, variance: 0.029229189672791405\n",
      "feature idx: 77, variance: 0.02922365575264201\n",
      "feature idx: 198, variance: 0.02879997981736432\n",
      "feature idx: 88, variance: 0.028787595931072725\n",
      "feature idx: 162, variance: 0.028692532002007148\n",
      "feature idx: 74, variance: 0.0280669984535853\n",
      "feature idx: 202, variance: 0.027978582068692453\n",
      "feature idx: 150, variance: 0.02749920508924375\n",
      "feature idx: 238, variance: 0.027449260326912587\n",
      "feature idx: 23, variance: 0.027426979035074423\n",
      "feature idx: 103, variance: 0.027398162633121375\n",
      "feature idx: 71, variance: 0.027333461429246544\n",
      "feature idx: 41, variance: 0.027264307415354922\n",
      "feature idx: 17, variance: 0.027234565721452626\n",
      "feature idx: 140, variance: 0.027101427874855404\n",
      "feature idx: 158, variance: 0.027090712822990658\n",
      "feature idx: 60, variance: 0.026799340119247523\n",
      "feature idx: 13, variance: 0.026748522624800895\n",
      "feature idx: 59, variance: 0.026664466891045204\n",
      "feature idx: 4, variance: 0.026583501832251923\n",
      "feature idx: 97, variance: 0.026002081853320078\n",
      "feature idx: 2, variance: 0.025552568034502895\n",
      "feature idx: 212, variance: 0.025342441173936168\n",
      "feature idx: 108, variance: 0.025255682530229275\n",
      "feature idx: 219, variance: 0.025216450127176628\n",
      "feature idx: 9, variance: 0.02513935828919409\n",
      "feature idx: 134, variance: 0.024442589459162188\n",
      "feature idx: 159, variance: 0.024339832006151075\n",
      "feature idx: 58, variance: 0.024171787356245398\n",
      "feature idx: 191, variance: 0.023609178383489852\n",
      "feature idx: 167, variance: 0.02360825100898682\n",
      "feature idx: 240, variance: 0.023576498420746526\n",
      "feature idx: 131, variance: 0.02353883871625796\n",
      "feature idx: 105, variance: 0.023522914693228647\n",
      "feature idx: 79, variance: 0.023061804609459648\n",
      "feature idx: 96, variance: 0.0229259438744269\n",
      "feature idx: 247, variance: 0.022550141813973194\n",
      "feature idx: 84, variance: 0.022152581385275393\n",
      "feature idx: 197, variance: 0.02114407048001164\n",
      "feature idx: 44, variance: 0.021002442857232725\n",
      "feature idx: 120, variance: 0.020352817879871487\n",
      "feature idx: 229, variance: 0.02014974557262931\n",
      "feature idx: 78, variance: 0.01903993452218691\n",
      "feature idx: 173, variance: 0.018884318516612236\n",
      "feature idx: 34, variance: 0.018729355483974926\n",
      "feature idx: 129, variance: 0.01868130597325704\n",
      "feature idx: 109, variance: 0.01641069090792153\n",
      "feature idx: 67, variance: 0.013069270201706357\n"
     ]
    }
   ],
   "source": [
    "# analyzing latent vecs \n",
    "latent_vecs_matrix = []\n",
    "for latent_vec in latent_vecs:\n",
    "    latent_vecs_matrix.append(latent_vec.cpu().detach().numpy())\n",
    "latent_vecs_matrix = np.concatenate(latent_vecs_matrix,0)\n",
    "\n",
    "latent_mean = np.mean(latent_vecs_matrix, axis = 0)\n",
    "latent_cov = np.cov(latent_vecs_matrix, rowvar=False)\n",
    "latent_var = np.diagonal(latent_cov)\n",
    "latent_var_argsorted = np.argsort(latent_var)[::-1]\n",
    "latent_var_sorted = latent_var[latent_var_argsorted]\n",
    "for i in range(len(latent_var_argsorted)):\n",
    "    print(\"feature idx: {}, variance: {}\".format(latent_var_argsorted[i], latent_var_sorted[i]))"
   ]
  },
  {
   "cell_type": "code",
   "execution_count": 86,
   "metadata": {
    "ExecuteTime": {
     "end_time": "2020-08-05T22:04:26.248605Z",
     "start_time": "2020-08-05T22:04:24.024219Z"
    }
   },
   "outputs": [
    {
     "data": {
      "image/png": "[encoded data removed]",
      "text/plain": [
       "<Figure size 432x288 with 1 Axes>"
      ]
     },
     "metadata": {
      "needs_background": "light"
     },
     "output_type": "display_data"
    },
    {
     "data": {
      "image/png": "[encoded data removed]",
      "text/plain": [
       "<Figure size 432x288 with 1 Axes>"
      ]
     },
     "metadata": {
      "needs_background": "light"
     },
     "output_type": "display_data"
    },
    {
     "data": {
      "image/png": "[encoded data removed]",
      "text/plain": [
       "<Figure size 432x288 with 1 Axes>"
      ]
     },
     "metadata": {
      "needs_background": "light"
     },
     "output_type": "display_data"
    },
    {
     "data": {
      "image/png": "[encoded data removed]",
      "text/plain": [
       "<Figure size 432x288 with 1 Axes>"
      ]
     },
     "metadata": {
      "needs_background": "light"
     },
     "output_type": "display_data"
    },
    {
     "data": {
      "image/png": "[encoded data removed]",
      "text/plain": [
       "<Figure size 432x288 with 1 Axes>"
      ]
     },
     "metadata": {
      "needs_background": "light"
     },
     "output_type": "display_data"
    },
    {
     "data": {
      "image/png": "[encoded data removed]",
      "text/plain": [
       "<Figure size 432x288 with 1 Axes>"
      ]
     },
     "metadata": {
      "needs_background": "light"
     },
     "output_type": "display_data"
    },
    {
     "data": {
      "image/png": "[encoded data removed]",
      "text/plain": [
       "<Figure size 432x288 with 1 Axes>"
      ]
     },
     "metadata": {
      "needs_background": "light"
     },
     "output_type": "display_data"
    },
    {
     "data": {
      "image/png": "[encoded data removed]",
      "text/plain": [
       "<Figure size 432x288 with 1 Axes>"
      ]
     },
     "metadata": {
      "needs_background": "light"
     },
     "output_type": "display_data"
    },
    {
     "data": {
      "image/png": "[encoded data removed]",
      "text/plain": [
       "<Figure size 432x288 with 1 Axes>"
      ]
     },
     "metadata": {
      "needs_background": "light"
     },
     "output_type": "display_data"
    },
    {
     "data": {
      "image/png": "[encoded data removed]",
      "text/plain": [
       "<Figure size 432x288 with 1 Axes>"
      ]
     },
     "metadata": {
      "needs_background": "light"
     },
     "output_type": "display_data"
    }
   ],
   "source": [
    "for i in range(10):\n",
    "    plt.figure()\n",
    "    feature_idx = latent_var_argsorted[i]\n",
    "    feature_var = latent_var_sorted[i]\n",
    "    n, bins, patches = plt.hist(latent_vecs_matrix[:,feature_idx], 50, density=True)\n",
    "    plt.title(\"Histogram for feature # {}, var = {}\".format(feature_idx, feature_var))"
   ]
  },
  {
   "cell_type": "code",
   "execution_count": 88,
   "metadata": {
    "ExecuteTime": {
     "end_time": "2020-08-05T22:08:11.515570Z",
     "start_time": "2020-08-05T22:08:11.244038Z"
    }
   },
   "outputs": [
    {
     "data": {
      "text/plain": [
       "<matplotlib.image.AxesImage at 0x7f5536aa5208>"
      ]
     },
     "execution_count": 88,
     "metadata": {},
     "output_type": "execute_result"
    },
    {
     "data": {
      "image/png": "[encoded data removed]",
      "text/plain": [
       "<Figure size 432x288 with 1 Axes>"
      ]
     },
     "metadata": {
      "needs_background": "light"
     },
     "output_type": "display_data"
    }
   ],
   "source": [
    "plt.imshow(latent_cov, interpolation=\"nearest\", cmap=\"hot\")"
   ]
  },
  {
   "cell_type": "code",
   "execution_count": null,
   "metadata": {},
   "outputs": [],
   "source": []
  },
  {
   "cell_type": "code",
   "execution_count": null,
   "metadata": {},
   "outputs": [],
   "source": []
  },
  {
   "cell_type": "markdown",
   "metadata": {},
   "source": [
    "# Interpolation along a dimension"
   ]
  },
  {
   "cell_type": "code",
   "execution_count": 117,
   "metadata": {
    "ExecuteTime": {
     "end_time": "2020-08-06T09:06:46.279002Z",
     "start_time": "2020-08-06T09:06:46.215952Z"
    }
   },
   "outputs": [],
   "source": [
    "# modify a model with different values for a dimension\n",
    "def interpolate_dimension(i, dim_i, stretch, num_steps):\n",
    "    dim = latent_var_argsorted[dim_i]\n",
    "    if stretch:\n",
    "        interpolate_dir = os.path.join(base_out_dir, \"{}_dim_{}_interpolate_stretch\".format(model_names[i], dim))\n",
    "    else:\n",
    "        interpolate_dir = os.path.join(base_out_dir, \"{}_dim_{}_interpolate\".format(model_names[i], dim))\n",
    "    if not os.path.exists(interpolate_dir):\n",
    "        os.makedirs(interpolate_dir)\n",
    "\n",
    "    c = latent_vecs[i]\n",
    "    model_path = os.path.join(interpolate_dir, \"original_{}_{}.off\".format(c[0,dim],model_names[i]))\n",
    "    generate_latent_mesh(c, model_path, yaml)\n",
    "\n",
    "    # fix i\n",
    "    dim_val_min = np.min(latent_vecs_matrix[:,dim])\n",
    "    dim_val_max = np.max(latent_vecs_matrix[:,dim])\n",
    "    if stretch:\n",
    "        dim_range = abs(dim_val_max - dim_val_min)\n",
    "        dim_val_min -= dim_range*5\n",
    "        dim_val_max += dim_range*5\n",
    "    for idx, new_dim_value in enumerate(np.linspace(dim_val_min, dim_val_max,num_steps)):\n",
    "        model_path = os.path.join(interpolate_dir, \"{}_{}_{}.off\".format(idx, new_dim_value,model_names[i]))\n",
    "        c_modified = torch.clone(c)\n",
    "        c_modified[0,dim] = new_dim_value\n",
    "        generate_latent_mesh(c_modified, model_path, yaml)"
   ]
  },
  {
   "cell_type": "code",
   "execution_count": 118,
   "metadata": {
    "ExecuteTime": {
     "end_time": "2020-08-06T09:08:16.504691Z",
     "start_time": "2020-08-06T09:06:48.512002Z"
    }
   },
   "outputs": [
    {
     "name": "stdout",
     "output_type": "stream",
     "text": [
      "out/DA_related/onet_chair_no_DA/model_best.pt\n",
      "=> Loading checkpoint from local file...\n",
      "out/DA_related/onet_chair_no_DA/model_best.pt\n",
      "=> Loading checkpoint from local file...\n",
      "out/DA_related/onet_chair_no_DA/model_best.pt\n",
      "=> Loading checkpoint from local file...\n",
      "out/DA_related/onet_chair_no_DA/model_best.pt\n",
      "=> Loading checkpoint from local file...\n",
      "out/DA_related/onet_chair_no_DA/model_best.pt\n",
      "=> Loading checkpoint from local file...\n",
      "out/DA_related/onet_chair_no_DA/model_best.pt\n",
      "=> Loading checkpoint from local file...\n",
      "out/DA_related/onet_chair_no_DA/model_best.pt\n",
      "=> Loading checkpoint from local file...\n",
      "out/DA_related/onet_chair_no_DA/model_best.pt\n",
      "=> Loading checkpoint from local file...\n",
      "out/DA_related/onet_chair_no_DA/model_best.pt\n",
      "=> Loading checkpoint from local file...\n",
      "out/DA_related/onet_chair_no_DA/model_best.pt\n",
      "=> Loading checkpoint from local file...\n",
      "out/DA_related/onet_chair_no_DA/model_best.pt\n",
      "=> Loading checkpoint from local file...\n",
      "out/DA_related/onet_chair_no_DA/model_best.pt\n",
      "=> Loading checkpoint from local file...\n",
      "out/DA_related/onet_chair_no_DA/model_best.pt\n",
      "=> Loading checkpoint from local file...\n",
      "out/DA_related/onet_chair_no_DA/model_best.pt\n",
      "=> Loading checkpoint from local file...\n",
      "out/DA_related/onet_chair_no_DA/model_best.pt\n",
      "=> Loading checkpoint from local file...\n",
      "out/DA_related/onet_chair_no_DA/model_best.pt\n",
      "=> Loading checkpoint from local file...\n",
      "out/DA_related/onet_chair_no_DA/model_best.pt\n",
      "=> Loading checkpoint from local file...\n",
      "out/DA_related/onet_chair_no_DA/model_best.pt\n",
      "=> Loading checkpoint from local file...\n",
      "out/DA_related/onet_chair_no_DA/model_best.pt\n",
      "=> Loading checkpoint from local file...\n",
      "out/DA_related/onet_chair_no_DA/model_best.pt\n",
      "=> Loading checkpoint from local file...\n",
      "out/DA_related/onet_chair_no_DA/model_best.pt\n",
      "=> Loading checkpoint from local file...\n",
      "out/DA_related/onet_chair_no_DA/model_best.pt\n",
      "=> Loading checkpoint from local file...\n",
      "out/DA_related/onet_chair_no_DA/model_best.pt\n",
      "=> Loading checkpoint from local file...\n",
      "out/DA_related/onet_chair_no_DA/model_best.pt\n",
      "=> Loading checkpoint from local file...\n",
      "out/DA_related/onet_chair_no_DA/model_best.pt\n",
      "=> Loading checkpoint from local file...\n",
      "out/DA_related/onet_chair_no_DA/model_best.pt\n",
      "=> Loading checkpoint from local file...\n",
      "out/DA_related/onet_chair_no_DA/model_best.pt\n",
      "=> Loading checkpoint from local file...\n",
      "out/DA_related/onet_chair_no_DA/model_best.pt\n",
      "=> Loading checkpoint from local file...\n",
      "out/DA_related/onet_chair_no_DA/model_best.pt\n",
      "=> Loading checkpoint from local file...\n",
      "out/DA_related/onet_chair_no_DA/model_best.pt\n",
      "=> Loading checkpoint from local file...\n",
      "out/DA_related/onet_chair_no_DA/model_best.pt\n",
      "=> Loading checkpoint from local file...\n",
      "out/DA_related/onet_chair_no_DA/model_best.pt\n",
      "=> Loading checkpoint from local file...\n",
      "out/DA_related/onet_chair_no_DA/model_best.pt\n",
      "=> Loading checkpoint from local file...\n",
      "out/DA_related/onet_chair_no_DA/model_best.pt\n",
      "=> Loading checkpoint from local file...\n",
      "out/DA_related/onet_chair_no_DA/model_best.pt\n",
      "=> Loading checkpoint from local file...\n",
      "out/DA_related/onet_chair_no_DA/model_best.pt\n",
      "=> Loading checkpoint from local file...\n",
      "out/DA_related/onet_chair_no_DA/model_best.pt\n",
      "=> Loading checkpoint from local file...\n",
      "out/DA_related/onet_chair_no_DA/model_best.pt\n",
      "=> Loading checkpoint from local file...\n",
      "out/DA_related/onet_chair_no_DA/model_best.pt\n",
      "=> Loading checkpoint from local file...\n",
      "out/DA_related/onet_chair_no_DA/model_best.pt\n",
      "=> Loading checkpoint from local file...\n",
      "out/DA_related/onet_chair_no_DA/model_best.pt\n",
      "=> Loading checkpoint from local file...\n",
      "out/DA_related/onet_chair_no_DA/model_best.pt\n",
      "=> Loading checkpoint from local file...\n",
      "out/DA_related/onet_chair_no_DA/model_best.pt\n",
      "=> Loading checkpoint from local file...\n",
      "out/DA_related/onet_chair_no_DA/model_best.pt\n",
      "=> Loading checkpoint from local file...\n",
      "out/DA_related/onet_chair_no_DA/model_best.pt\n",
      "=> Loading checkpoint from local file...\n"
     ]
    }
   ],
   "source": [
    "for model_i in [2,3,5]:\n",
    "    for dim_i in [-1,-2,-3]:\n",
    "        interpolate_dimension(model_i, dim_i, True, 4)"
   ]
  },
  {
   "cell_type": "code",
   "execution_count": null,
   "metadata": {},
   "outputs": [],
   "source": []
  },
  {
   "cell_type": "code",
   "execution_count": null,
   "metadata": {},
   "outputs": [],
   "source": []
  },
  {
   "cell_type": "code",
   "execution_count": null,
   "metadata": {},
   "outputs": [],
   "source": []
  },
  {
   "cell_type": "code",
   "execution_count": null,
   "metadata": {},
   "outputs": [],
   "source": []
  },
  {
   "cell_type": "code",
   "execution_count": null,
   "metadata": {},
   "outputs": [],
   "source": []
  }
 ],
 "metadata": {
  "kernelspec": {
   "display_name": "Python [conda env:mesh_funcspace] *",
   "language": "python",
   "name": "conda-env-mesh_funcspace-py"
  },
  "language_info": {
   "codemirror_mode": {
    "name": "ipython",
    "version": 3
   },
   "file_extension": ".py",
   "mimetype": "text/x-python",
   "name": "python",
   "nbconvert_exporter": "python",
   "pygments_lexer": "ipython3",
   "version": "3.6.7"
  }
 },
 "nbformat": 4,
 "nbformat_minor": 4
}
