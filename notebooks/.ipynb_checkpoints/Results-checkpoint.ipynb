{
 "cells": [
  {
   "cell_type": "code",
   "execution_count": 18,
   "metadata": {
    "ExecuteTime": {
     "end_time": "2020-07-20T04:36:57.935456Z",
     "start_time": "2020-07-20T04:36:47.836919Z"
    }
   },
   "outputs": [
    {
     "name": "stdout",
     "output_type": "stream",
     "text": [
      "The autoreload extension is already loaded. To reload it, use:\n",
      "  %reload_ext autoreload\n"
     ]
    }
   ],
   "source": [
    "%load_ext autoreload\n",
    "%autoreload 2\n",
    "\n",
    "import os\n",
    "import pandas as pd"
   ]
  },
  {
   "cell_type": "code",
   "execution_count": 17,
   "metadata": {
    "ExecuteTime": {
     "end_time": "2020-07-20T01:42:04.064343Z",
     "start_time": "2020-07-20T01:42:04.036552Z"
    }
   },
   "outputs": [
    {
     "name": "stdout",
     "output_type": "stream",
     "text": [
      "   chamfer-L1 (mesh)  iou (mesh)  normals completeness (mesh)\n",
      "0           0.022302    0.512421                     0.815453\n"
     ]
    }
   ],
   "source": [
    "exp_dir = \"../out/DA_related/onet_chair_no_DA_test/generation\"\n",
    "summary_results_csv = pd.read_csv(os.path.join(exp_dir, \"eval_meshes.csv\"))\n",
    "full_results_csv = pd.read_pickle(os.path.join(exp_dir, \"eval_meshes_full.pkl\"))\n",
    "print(summary_results_csv[[\"chamfer-L1 (mesh)\", \"iou (mesh)\", \"normals completeness (mesh)\"]])"
   ]
  },
  {
   "cell_type": "code",
   "execution_count": 12,
   "metadata": {
    "ExecuteTime": {
     "end_time": "2020-07-20T01:40:50.833283Z",
     "start_time": "2020-07-20T01:40:50.790141Z"
    }
   },
   "outputs": [
    {
     "data": {
      "text/html": [
       "<div>\n",
       "<style scoped>\n",
       "    .dataframe tbody tr th:only-of-type {\n",
       "        vertical-align: middle;\n",
       "    }\n",
       "\n",
       "    .dataframe tbody tr th {\n",
       "        vertical-align: top;\n",
       "    }\n",
       "\n",
       "    .dataframe thead th {\n",
       "        text-align: right;\n",
       "    }\n",
       "</style>\n",
       "<table border=\"1\" class=\"dataframe\">\n",
       "  <thead>\n",
       "    <tr style=\"text-align: right;\">\n",
       "      <th></th>\n",
       "      <th>class name</th>\n",
       "      <th>accuracy (mesh)</th>\n",
       "      <th>accuracy2 (mesh)</th>\n",
       "      <th>chamfer (mesh)</th>\n",
       "      <th>chamfer-L1 (mesh)</th>\n",
       "      <th>chamfer-L2 (mesh)</th>\n",
       "      <th>completeness (mesh)</th>\n",
       "      <th>completeness2 (mesh)</th>\n",
       "      <th>iou (mesh)</th>\n",
       "      <th>normals (mesh)</th>\n",
       "      <th>normals accuracy (mesh)</th>\n",
       "      <th>normals completeness (mesh)</th>\n",
       "    </tr>\n",
       "  </thead>\n",
       "  <tbody>\n",
       "    <tr>\n",
       "      <th>0</th>\n",
       "      <td>chair</td>\n",
       "      <td>0.02287</td>\n",
       "      <td>0.003344</td>\n",
       "      <td>6.0</td>\n",
       "      <td>0.022302</td>\n",
       "      <td>0.001415</td>\n",
       "      <td>0.024257</td>\n",
       "      <td>0.003913</td>\n",
       "      <td>0.512421</td>\n",
       "      <td>0.822925</td>\n",
       "      <td>0.830397</td>\n",
       "      <td>0.815453</td>\n",
       "    </tr>\n",
       "  </tbody>\n",
       "</table>\n",
       "</div>"
      ],
      "text/plain": [
       "  class name  accuracy (mesh)  accuracy2 (mesh)  chamfer (mesh)  \\\n",
       "0      chair          0.02287          0.003344             6.0   \n",
       "\n",
       "   chamfer-L1 (mesh)  chamfer-L2 (mesh)  completeness (mesh)  \\\n",
       "0           0.022302           0.001415             0.024257   \n",
       "\n",
       "   completeness2 (mesh)  iou (mesh)  normals (mesh)  normals accuracy (mesh)  \\\n",
       "0              0.003913    0.512421        0.822925                 0.830397   \n",
       "\n",
       "   normals completeness (mesh)  \n",
       "0                     0.815453  "
      ]
     },
     "execution_count": 12,
     "metadata": {},
     "output_type": "execute_result"
    }
   ],
   "source": [
    "summary_results_csv"
   ]
  },
  {
   "cell_type": "code",
   "execution_count": null,
   "metadata": {},
   "outputs": [],
   "source": []
  },
  {
   "cell_type": "code",
   "execution_count": null,
   "metadata": {},
   "outputs": [],
   "source": []
  },
  {
   "cell_type": "code",
   "execution_count": null,
   "metadata": {},
   "outputs": [],
   "source": []
  },
  {
   "cell_type": "code",
   "execution_count": null,
   "metadata": {},
   "outputs": [],
   "source": []
  },
  {
   "cell_type": "code",
   "execution_count": null,
   "metadata": {},
   "outputs": [],
   "source": []
  }
 ],
 "metadata": {
  "kernelspec": {
   "display_name": "Python 3",
   "language": "python",
   "name": "python3"
  },
  "language_info": {
   "codemirror_mode": {
    "name": "ipython",
    "version": 3
   },
   "file_extension": ".py",
   "mimetype": "text/x-python",
   "name": "python",
   "nbconvert_exporter": "python",
   "pygments_lexer": "ipython3",
   "version": "3.7.6"
  }
 },
 "nbformat": 4,
 "nbformat_minor": 4
}
