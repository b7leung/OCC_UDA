{
 "cells": [
  {
   "cell_type": "code",
   "execution_count": 1,
   "metadata": {
    "ExecuteTime": {
     "end_time": "2020-07-27T10:27:28.627594Z",
     "start_time": "2020-07-27T10:27:28.603119Z"
    }
   },
   "outputs": [],
   "source": [
    "%load_ext autoreload\n",
    "%autoreload 2"
   ]
  },
  {
   "cell_type": "code",
   "execution_count": 2,
   "metadata": {
    "ExecuteTime": {
     "end_time": "2020-07-27T10:57:30.027860Z",
     "start_time": "2020-07-27T10:57:19.275083Z"
    }
   },
   "outputs": [],
   "source": [
    "import os\n",
    "import sys\n",
    "import pprint\n",
    "import random\n",
    "os.chdir('/data7/brandon/research/DA_MVR/occ_net/occupancy_networks')\n",
    "\n",
    "import torch\n",
    "import matplotlib.pyplot as plt\n",
    "import numpy as np\n",
    "from tqdm import tqdm\n",
    "\n",
    "import trimesh\n",
    "import torch\n",
    "from im2mesh import config, data\n",
    "from im2mesh.eval import MeshEvaluator\n",
    "from im2mesh.utils.io import load_pointcloud"
   ]
  },
  {
   "cell_type": "code",
   "execution_count": null,
   "metadata": {},
   "outputs": [],
   "source": [
    "# to benchmark:\n",
    "# python -m torch.utils.bottleneck train.py configs/domain_adaptation/chair_DA_DANN_test.yaml --benchmark_mode"
   ]
  },
  {
   "cell_type": "markdown",
   "metadata": {},
   "source": [
    "# dataloader"
   ]
  },
  {
   "cell_type": "code",
   "execution_count": null,
   "metadata": {},
   "outputs": [],
   "source": [
    "cfg = config.load_config('configs/domain_adaptation/chair_DA_DANN.yaml', 'configs/default.yaml')\n",
    "train_dataset = config.get_dataset('train', cfg)\n",
    "train_loader = torch.utils.data.DataLoader(\n",
    "    train_dataset, batch_size=20, num_workers=1, shuffle=True,\n",
    "    collate_fn=data.collate_remove_none,\n",
    "    worker_init_fn=data.worker_init_fn)"
   ]
  },
  {
   "cell_type": "code",
   "execution_count": null,
   "metadata": {
    "scrolled": true
   },
   "outputs": [],
   "source": [
    "for batch in train_loader:\n",
    "    for key in batch:\n",
    "        print(\"{} --> {}\".format(key, batch[key].shape))\n",
    "    imgs_source = batch['inputs'].cpu().detach().numpy()\n",
    "    imgs_target = batch['inputs_target_domain'].cpu().detach().numpy()\n",
    "    \n",
    "    break"
   ]
  },
  {
   "cell_type": "code",
   "execution_count": null,
   "metadata": {
    "scrolled": true
   },
   "outputs": [],
   "source": [
    "plt.imshow(imgs_source[10].transpose(1,2,0))"
   ]
  },
  {
   "cell_type": "markdown",
   "metadata": {},
   "source": [
    "# Mesh Eval"
   ]
  },
  {
   "cell_type": "code",
   "execution_count": 26,
   "metadata": {},
   "outputs": [],
   "source": [
    "\n",
    "def mesh_eval(config_yaml, gpu_number, da, generation_dir):\n",
    "\n",
    "    cfg = config.load_config(config_yaml, 'configs/default.yaml')\n",
    "    device = torch.device(\"cuda:{}\".format(gpu_number))\n",
    "    generation_path = os.path.join(cfg['training']['out_dir'], generation_dir)\n",
    "\n",
    "    # setting up dataloader\n",
    "    points_field = data.PointsField(\n",
    "        cfg['data']['points_iou_file'], \n",
    "        unpackbits=cfg['data']['points_unpackbits'],\n",
    "    )\n",
    "    pointcloud_field = data.PointCloudField(\n",
    "        cfg['data']['pointcloud_chamfer_file']\n",
    "    )\n",
    "    fields = {\n",
    "        'points_iou': points_field,\n",
    "        'pointcloud_chamfer': pointcloud_field,\n",
    "        'idx': data.IndexField(),\n",
    "    }\n",
    "    if da:\n",
    "        dataset_folder = cfg['data']['uda_path']\n",
    "        categories_to_use = cfg['data']['uda_classes']\n",
    "    else:\n",
    "        dataset_folder = cfg['data']['path']\n",
    "        categories_to_use = cfg['data']['classes']\n",
    "    dataset = data.Shapes3dDataset(\n",
    "        dataset_folder, fields,\n",
    "        cfg['data']['test_split'],\n",
    "        categories=categories_to_use)\n",
    "    test_loader = torch.utils.data.DataLoader(\n",
    "        dataset, batch_size=1, num_workers=0, shuffle=False)\n",
    "\n",
    "    # evaluation\n",
    "    evaluator = MeshEvaluator(n_points=100000)\n",
    "    for it, data_entry in enumerate((test_loader)):\n",
    "\n",
    "        # Get index etc.\n",
    "        idx = data_entry['idx'].item()\n",
    "        try:\n",
    "            model_dict = dataset.get_model_dict(idx)\n",
    "        except AttributeError:\n",
    "            model_dict = {'model': str(idx), 'category': 'n/a'}\n",
    "        modelname = model_dict['model']\n",
    "        category_id = model_dict['category']\n",
    "        print(modelname, category_id)\n",
    "\n",
    "        # evaluate\n",
    "        pointcloud_tgt = data_entry['pointcloud_chamfer'].squeeze(0).numpy()\n",
    "        normals_tgt = data_entry['pointcloud_chamfer.normals'].squeeze(0).numpy()\n",
    "        points_tgt = data_entry['points_iou'].squeeze(0).numpy()\n",
    "        occ_tgt = data_entry['points_iou.occ'].squeeze(0).numpy()\n",
    "        \n",
    "        mesh_dir = os.path.join(generation_path, 'meshes')\n",
    "        mesh_dir = os.path.join(mesh_dir, category_id)\n",
    "        mesh_file = os.path.join(mesh_dir, '%s.off' % modelname)\n",
    "        if os.path.exists(mesh_file):\n",
    "            mesh = trimesh.load(mesh_file, process=False)\n",
    "            eval_dict_mesh = evaluator.eval_mesh(\n",
    "                mesh, pointcloud_tgt, normals_tgt, points_tgt, occ_tgt)\n",
    "            #for metric in [\"chamfer-L1\", \"iou\", \"normals completeness\"]:\n",
    "            #    print(\"{}: {}\".format(metric,eval_dict_mesh[metric]))\n",
    "        else:\n",
    "            print('Warning: mesh does not exist: %s' % mesh_file)\n"
   ]
  },
  {
   "cell_type": "code",
   "execution_count": 27,
   "metadata": {},
   "outputs": [
    {
     "name": "stdout",
     "output_type": "stream",
     "text": [
      "0001 chair\n",
      "Warning: contains1 != contains2 for 9 points.\n",
      "0002 chair\n",
      "0003 chair\n",
      "0004 chair\n",
      "Warning: contains1 != contains2 for 3 points.\n",
      "0005 chair\n",
      "Warning: contains1 != contains2 for 1 points.\n",
      "0006 chair\n",
      "Warning: contains1 != contains2 for 3 points.\n",
      "0007 chair\n",
      "Warning: contains1 != contains2 for 4 points.\n",
      "0008 chair\n",
      "0009 chair\n",
      "0010 chair\n",
      "Warning: contains1 != contains2 for 3 points.\n",
      "0011 chair\n",
      "Warning: contains1 != contains2 for 1 points.\n",
      "0012 chair\n",
      "Warning: contains1 != contains2 for 18 points.\n",
      "0013 chair\n",
      "Warning: contains1 != contains2 for 24 points.\n",
      "0014 chair\n",
      "Warning: contains1 != contains2 for 4 points.\n",
      "0015 chair\n",
      "0016 chair\n",
      "Warning: contains1 != contains2 for 1 points.\n",
      "0017 chair\n",
      "Warning: contains1 != contains2 for 4 points.\n",
      "0018 chair\n",
      "0019 chair\n",
      "Warning: contains1 != contains2 for 3 points.\n",
      "0020 chair\n",
      "Warning: contains1 != contains2 for 4 points.\n",
      "0021 chair\n",
      "Warning: contains1 != contains2 for 1 points.\n",
      "0022 chair\n",
      "Warning: contains1 != contains2 for 1 points.\n",
      "0023 chair\n",
      "Warning: contains1 != contains2 for 4 points.\n",
      "0024 chair\n",
      "Warning: contains1 != contains2 for 4 points.\n",
      "0025 chair\n",
      "Warning: contains1 != contains2 for 8 points.\n",
      "0026 chair\n",
      "0027 chair\n",
      "0028 chair\n",
      "Warning: contains1 != contains2 for 2 points.\n",
      "0029 chair\n",
      "Warning: contains1 != contains2 for 1 points.\n",
      "0030 chair\n",
      "Warning: contains1 != contains2 for 6 points.\n",
      "0031 chair\n",
      "Warning: contains1 != contains2 for 6 points.\n",
      "0032 chair\n",
      "Warning: contains1 != contains2 for 1 points.\n",
      "0033 chair\n",
      "0034 chair\n",
      "Warning: contains1 != contains2 for 8 points.\n",
      "0035 chair\n",
      "0036 chair\n",
      "Warning: contains1 != contains2 for 2 points.\n",
      "0037 chair\n",
      "Warning: contains1 != contains2 for 4 points.\n",
      "0038 chair\n",
      "Warning: contains1 != contains2 for 2 points.\n",
      "0039 chair\n",
      "Warning: contains1 != contains2 for 3 points.\n",
      "0040 chair\n",
      "Warning: contains1 != contains2 for 9 points.\n",
      "0041 chair\n",
      "Warning: contains1 != contains2 for 4 points.\n",
      "0042 chair\n",
      "Warning: contains1 != contains2 for 5 points.\n",
      "0043 chair\n",
      "Warning: contains1 != contains2 for 3 points.\n",
      "0044 chair\n",
      "Warning: contains1 != contains2 for 2 points.\n",
      "0045 chair\n",
      "0046 chair\n",
      "Warning: contains1 != contains2 for 4 points.\n",
      "0047 chair\n",
      "Warning: contains1 != contains2 for 6 points.\n",
      "0048 chair\n",
      "0049 chair\n",
      "Warning: contains1 != contains2 for 4 points.\n",
      "0050 chair\n",
      "Warning: contains1 != contains2 for 9 points.\n",
      "0051 chair\n",
      "Warning: contains1 != contains2 for 3 points.\n",
      "0052 chair\n",
      "Warning: contains1 != contains2 for 2 points.\n",
      "0053 chair\n",
      "Warning: contains1 != contains2 for 9 points.\n",
      "0054 chair\n",
      "Warning: contains1 != contains2 for 2 points.\n",
      "0055 chair\n",
      "Warning: contains1 != contains2 for 4 points.\n",
      "0056 chair\n",
      "Warning: contains1 != contains2 for 4 points.\n",
      "0057 chair\n",
      "Warning: contains1 != contains2 for 4 points.\n",
      "0058 chair\n",
      "Warning: contains1 != contains2 for 4 points.\n",
      "0059 chair\n",
      "Warning: contains1 != contains2 for 6 points.\n",
      "0060 chair\n",
      "Warning: contains1 != contains2 for 7 points.\n",
      "0061 chair\n",
      "0062 chair\n",
      "Warning: contains1 != contains2 for 3 points.\n",
      "0063 chair\n",
      "Warning: contains1 != contains2 for 2 points.\n",
      "0064 chair\n",
      "Warning: contains1 != contains2 for 2 points.\n",
      "0065 chair\n",
      "Warning: contains1 != contains2 for 3 points.\n",
      "0066 chair\n",
      "Warning: contains1 != contains2 for 6 points.\n",
      "0067 chair\n",
      "Warning: contains1 != contains2 for 8 points.\n",
      "0068 chair\n",
      "Warning: contains1 != contains2 for 1 points.\n",
      "0069 chair\n",
      "Warning: contains1 != contains2 for 11 points.\n",
      "0070 chair\n",
      "Warning: contains1 != contains2 for 31 points.\n",
      "0071 chair\n",
      "Warning: contains1 != contains2 for 3 points.\n",
      "0072 chair\n",
      "Warning: contains1 != contains2 for 6 points.\n",
      "0073 chair\n",
      "Warning: contains1 != contains2 for 4 points.\n",
      "0074 chair\n",
      "Warning: contains1 != contains2 for 2 points.\n",
      "0075 chair\n",
      "Warning: contains1 != contains2 for 2 points.\n",
      "0076 chair\n",
      "Warning: contains1 != contains2 for 3 points.\n",
      "0077 chair\n",
      "Warning: contains1 != contains2 for 7 points.\n",
      "0078 chair\n"
     ]
    },
    {
     "ename": "KeyboardInterrupt",
     "evalue": "",
     "output_type": "error",
     "traceback": [
      "\u001b[0;31m---------------------------------------------------------------------------\u001b[0m",
      "\u001b[0;31mKeyboardInterrupt\u001b[0m                         Traceback (most recent call last)",
      "\u001b[0;32m<ipython-input-27-607aa2fa97d8>\u001b[0m in \u001b[0;36m<module>\u001b[0;34m\u001b[0m\n\u001b[1;32m      1\u001b[0m \u001b[0mdann_no_bg_yaml\u001b[0m \u001b[0;34m=\u001b[0m \u001b[0;34m\"configs/domain_adaptation/chair_DA_DANN.yaml\"\u001b[0m\u001b[0;34m\u001b[0m\u001b[0;34m\u001b[0m\u001b[0m\n\u001b[0;32m----> 2\u001b[0;31m \u001b[0mmesh_eval\u001b[0m\u001b[0;34m(\u001b[0m\u001b[0mdann_no_bg_yaml\u001b[0m\u001b[0;34m,\u001b[0m \u001b[0;34m'6'\u001b[0m\u001b[0;34m,\u001b[0m \u001b[0;32mTrue\u001b[0m\u001b[0;34m,\u001b[0m \u001b[0;34m\"generation_last\"\u001b[0m\u001b[0;34m)\u001b[0m\u001b[0;34m\u001b[0m\u001b[0;34m\u001b[0m\u001b[0m\n\u001b[0m",
      "\u001b[0;32m<ipython-input-26-a6fcc5e73ac6>\u001b[0m in \u001b[0;36mmesh_eval\u001b[0;34m(config_yaml, gpu_number, da, generation_dir)\u001b[0m\n\u001b[1;32m     57\u001b[0m             \u001b[0mmesh\u001b[0m \u001b[0;34m=\u001b[0m \u001b[0mtrimesh\u001b[0m\u001b[0;34m.\u001b[0m\u001b[0mload\u001b[0m\u001b[0;34m(\u001b[0m\u001b[0mmesh_file\u001b[0m\u001b[0;34m,\u001b[0m \u001b[0mprocess\u001b[0m\u001b[0;34m=\u001b[0m\u001b[0;32mFalse\u001b[0m\u001b[0;34m)\u001b[0m\u001b[0;34m\u001b[0m\u001b[0;34m\u001b[0m\u001b[0m\n\u001b[1;32m     58\u001b[0m             eval_dict_mesh = evaluator.eval_mesh(\n\u001b[0;32m---> 59\u001b[0;31m                 mesh, pointcloud_tgt, normals_tgt, points_tgt, occ_tgt)\n\u001b[0m\u001b[1;32m     60\u001b[0m             \u001b[0;31m#for metric in [\"chamfer-L1\", \"iou\", \"normals completeness\"]:\u001b[0m\u001b[0;34m\u001b[0m\u001b[0;34m\u001b[0m\u001b[0;34m\u001b[0m\u001b[0m\n\u001b[1;32m     61\u001b[0m             \u001b[0;31m#    print(\"{}: {}\".format(metric,eval_dict_mesh[metric]))\u001b[0m\u001b[0;34m\u001b[0m\u001b[0;34m\u001b[0m\u001b[0;34m\u001b[0m\u001b[0m\n",
      "\u001b[0;32m/data7/brandon/research/DA_MVR/occ_net/occupancy_networks/im2mesh/eval.py\u001b[0m in \u001b[0;36meval_mesh\u001b[0;34m(self, mesh, pointcloud_tgt, normals_tgt, points_iou, occ_tgt)\u001b[0m\n\u001b[1;32m     62\u001b[0m \u001b[0;34m\u001b[0m\u001b[0m\n\u001b[1;32m     63\u001b[0m         \u001b[0;32mif\u001b[0m \u001b[0mlen\u001b[0m\u001b[0;34m(\u001b[0m\u001b[0mmesh\u001b[0m\u001b[0;34m.\u001b[0m\u001b[0mvertices\u001b[0m\u001b[0;34m)\u001b[0m \u001b[0;34m!=\u001b[0m \u001b[0;36m0\u001b[0m \u001b[0;32mand\u001b[0m \u001b[0mlen\u001b[0m\u001b[0;34m(\u001b[0m\u001b[0mmesh\u001b[0m\u001b[0;34m.\u001b[0m\u001b[0mfaces\u001b[0m\u001b[0;34m)\u001b[0m \u001b[0;34m!=\u001b[0m \u001b[0;36m0\u001b[0m\u001b[0;34m:\u001b[0m\u001b[0;34m\u001b[0m\u001b[0;34m\u001b[0m\u001b[0m\n\u001b[0;32m---> 64\u001b[0;31m             \u001b[0mocc\u001b[0m \u001b[0;34m=\u001b[0m \u001b[0mcheck_mesh_contains\u001b[0m\u001b[0;34m(\u001b[0m\u001b[0mmesh\u001b[0m\u001b[0;34m,\u001b[0m \u001b[0mpoints_iou\u001b[0m\u001b[0;34m)\u001b[0m\u001b[0;34m\u001b[0m\u001b[0;34m\u001b[0m\u001b[0m\n\u001b[0m\u001b[1;32m     65\u001b[0m             \u001b[0mout_dict\u001b[0m\u001b[0;34m[\u001b[0m\u001b[0;34m'iou'\u001b[0m\u001b[0;34m]\u001b[0m \u001b[0;34m=\u001b[0m \u001b[0mcompute_iou\u001b[0m\u001b[0;34m(\u001b[0m\u001b[0mocc\u001b[0m\u001b[0;34m,\u001b[0m \u001b[0mocc_tgt\u001b[0m\u001b[0;34m)\u001b[0m\u001b[0;34m\u001b[0m\u001b[0;34m\u001b[0m\u001b[0m\n\u001b[1;32m     66\u001b[0m         \u001b[0;32melse\u001b[0m\u001b[0;34m:\u001b[0m\u001b[0;34m\u001b[0m\u001b[0;34m\u001b[0m\u001b[0m\n",
      "\u001b[0;32m/data7/brandon/research/DA_MVR/occ_net/occupancy_networks/im2mesh/utils/libmesh/inside_mesh.py\u001b[0m in \u001b[0;36mcheck_mesh_contains\u001b[0;34m(mesh, points, hash_resolution)\u001b[0m\n\u001b[1;32m      5\u001b[0m \u001b[0;32mdef\u001b[0m \u001b[0mcheck_mesh_contains\u001b[0m\u001b[0;34m(\u001b[0m\u001b[0mmesh\u001b[0m\u001b[0;34m,\u001b[0m \u001b[0mpoints\u001b[0m\u001b[0;34m,\u001b[0m \u001b[0mhash_resolution\u001b[0m\u001b[0;34m=\u001b[0m\u001b[0;36m512\u001b[0m\u001b[0;34m)\u001b[0m\u001b[0;34m:\u001b[0m\u001b[0;34m\u001b[0m\u001b[0;34m\u001b[0m\u001b[0m\n\u001b[1;32m      6\u001b[0m     \u001b[0mintersector\u001b[0m \u001b[0;34m=\u001b[0m \u001b[0mMeshIntersector\u001b[0m\u001b[0;34m(\u001b[0m\u001b[0mmesh\u001b[0m\u001b[0;34m,\u001b[0m \u001b[0mhash_resolution\u001b[0m\u001b[0;34m)\u001b[0m\u001b[0;34m\u001b[0m\u001b[0;34m\u001b[0m\u001b[0m\n\u001b[0;32m----> 7\u001b[0;31m     \u001b[0mcontains\u001b[0m \u001b[0;34m=\u001b[0m \u001b[0mintersector\u001b[0m\u001b[0;34m.\u001b[0m\u001b[0mquery\u001b[0m\u001b[0;34m(\u001b[0m\u001b[0mpoints\u001b[0m\u001b[0;34m)\u001b[0m\u001b[0;34m\u001b[0m\u001b[0;34m\u001b[0m\u001b[0m\n\u001b[0m\u001b[1;32m      8\u001b[0m     \u001b[0;32mreturn\u001b[0m \u001b[0mcontains\u001b[0m\u001b[0;34m\u001b[0m\u001b[0;34m\u001b[0m\u001b[0m\n\u001b[1;32m      9\u001b[0m \u001b[0;34m\u001b[0m\u001b[0m\n",
      "\u001b[0;32m/data7/brandon/research/DA_MVR/occ_net/occupancy_networks/im2mesh/utils/libmesh/inside_mesh.py\u001b[0m in \u001b[0;36mquery\u001b[0;34m(self, points)\u001b[0m\n\u001b[1;32m     69\u001b[0m         \u001b[0mcontains2\u001b[0m \u001b[0;34m=\u001b[0m \u001b[0;34m(\u001b[0m\u001b[0mnp\u001b[0m\u001b[0;34m.\u001b[0m\u001b[0mmod\u001b[0m\u001b[0;34m(\u001b[0m\u001b[0mnintersect1\u001b[0m\u001b[0;34m,\u001b[0m \u001b[0;36m2\u001b[0m\u001b[0;34m)\u001b[0m \u001b[0;34m==\u001b[0m \u001b[0;36m1\u001b[0m\u001b[0;34m)\u001b[0m\u001b[0;34m\u001b[0m\u001b[0;34m\u001b[0m\u001b[0m\n\u001b[1;32m     70\u001b[0m         \u001b[0;32mif\u001b[0m \u001b[0;34m(\u001b[0m\u001b[0mcontains1\u001b[0m \u001b[0;34m!=\u001b[0m \u001b[0mcontains2\u001b[0m\u001b[0;34m)\u001b[0m\u001b[0;34m.\u001b[0m\u001b[0many\u001b[0m\u001b[0;34m(\u001b[0m\u001b[0;34m)\u001b[0m\u001b[0;34m:\u001b[0m\u001b[0;34m\u001b[0m\u001b[0;34m\u001b[0m\u001b[0m\n\u001b[0;32m---> 71\u001b[0;31m             \u001b[0mnum_inconsistent\u001b[0m \u001b[0;34m=\u001b[0m \u001b[0msum\u001b[0m\u001b[0;34m(\u001b[0m\u001b[0mcontains1\u001b[0m \u001b[0;34m!=\u001b[0m \u001b[0mcontains2\u001b[0m\u001b[0;34m)\u001b[0m\u001b[0;34m\u001b[0m\u001b[0;34m\u001b[0m\u001b[0m\n\u001b[0m\u001b[1;32m     72\u001b[0m             \u001b[0mprint\u001b[0m\u001b[0;34m(\u001b[0m\u001b[0;34m'Warning: contains1 != contains2 for {} points.'\u001b[0m\u001b[0;34m.\u001b[0m\u001b[0mformat\u001b[0m\u001b[0;34m(\u001b[0m\u001b[0mnum_inconsistent\u001b[0m\u001b[0;34m)\u001b[0m\u001b[0;34m)\u001b[0m\u001b[0;34m\u001b[0m\u001b[0;34m\u001b[0m\u001b[0m\n\u001b[1;32m     73\u001b[0m         \u001b[0mcontains\u001b[0m\u001b[0;34m[\u001b[0m\u001b[0mmask\u001b[0m\u001b[0;34m]\u001b[0m \u001b[0;34m=\u001b[0m \u001b[0;34m(\u001b[0m\u001b[0mcontains1\u001b[0m \u001b[0;34m&\u001b[0m \u001b[0mcontains2\u001b[0m\u001b[0;34m)\u001b[0m\u001b[0;34m\u001b[0m\u001b[0;34m\u001b[0m\u001b[0m\n",
      "\u001b[0;31mKeyboardInterrupt\u001b[0m: "
     ]
    }
   ],
   "source": [
    "dann_no_bg_yaml = \"configs/domain_adaptation/chair_DA_DANN.yaml\"\n",
    "mesh_eval(dann_no_bg_yaml, '6', True, \"generation_last\")"
   ]
  },
  {
   "cell_type": "code",
   "execution_count": null,
   "metadata": {},
   "outputs": [],
   "source": []
  },
  {
   "cell_type": "code",
   "execution_count": null,
   "metadata": {},
   "outputs": [],
   "source": []
  },
  {
   "cell_type": "code",
   "execution_count": null,
   "metadata": {},
   "outputs": [],
   "source": []
  },
  {
   "cell_type": "code",
   "execution_count": null,
   "metadata": {},
   "outputs": [],
   "source": []
  }
 ],
 "metadata": {
  "kernelspec": {
   "display_name": "Python 3",
   "language": "python",
   "name": "python3"
  },
  "language_info": {
   "codemirror_mode": {
    "name": "ipython",
    "version": 3
   },
   "file_extension": ".py",
   "mimetype": "text/x-python",
   "name": "python",
   "nbconvert_exporter": "python",
   "pygments_lexer": "ipython3",
   "version": "3.6.7"
  }
 },
 "nbformat": 4,
 "nbformat_minor": 4
}
