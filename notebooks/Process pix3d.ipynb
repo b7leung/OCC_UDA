{
 "cells": [
  {
   "cell_type": "code",
   "execution_count": null,
   "metadata": {},
   "outputs": [],
   "source": [
    "# instructions:\n",
    "# download pix3d\n",
    "# fix models in pix3d which have multiple obj files (no single \"model.obj\"); rename one of them to be \"model.obj\"\n",
    "# For chair class:\n",
    "# IKEA_JULES_1/model_-0.248241748473_0.131155721985.obj\n",
    "# IKEA_MARKUS/model_-0.87337964205_-0.0723611270545.obj\n",
    "# IKEA_PATRIK/model_-0.104274359838_-0.0651591010433.obj\n",
    "# IKEA_SKRUVSTA/model_0.398123524547_0.0140008021241.obj\n",
    "# IKEA_SNILLE_1/model_0.622225291388_0.0492453107028.obj\n",
    "\n",
    "# get branch of occnet for processing\n",
    "# follow instructions in external (download opengl, glew, etc and build) and set pythonpath\n",
    "# run bash dataset_pix3d/build.sh\n",
    "# place pix3d.build into data/external (only 4_pointcloud and 4_points are necessary)"
   ]
  },
  {
   "cell_type": "code",
   "execution_count": 1,
   "metadata": {
    "ExecuteTime": {
     "end_time": "2020-07-24T03:18:39.240060Z",
     "start_time": "2020-07-24T03:18:38.892974Z"
    }
   },
   "outputs": [],
   "source": [
    "%load_ext autoreload\n",
    "%autoreload 2\n",
    "\n",
    "import numpy as np\n",
    "import os\n",
    "import json\n",
    "import pprint\n",
    "import subprocess\n",
    "from PIL import Image\n",
    "import PIL.ImageOps    \n"
   ]
  },
  {
   "cell_type": "code",
   "execution_count": 13,
   "metadata": {
    "ExecuteTime": {
     "end_time": "2020-07-24T03:43:32.138925Z",
     "start_time": "2020-07-24T03:43:31.955587Z"
    }
   },
   "outputs": [],
   "source": [
    "PIX3D_DIR = \"../data/external/pix3d\"\n",
    "PIX3D_POINTS_DIR = \"../data/external/pix3d.build\"\n",
    "\n",
    "OUT_DIR = \"../data/pix3d_processed\"\n",
    "\n",
    "classes = ['chair']"
   ]
  },
  {
   "cell_type": "code",
   "execution_count": 3,
   "metadata": {
    "ExecuteTime": {
     "end_time": "2020-07-24T03:18:42.634221Z",
     "start_time": "2020-07-24T03:18:41.694365Z"
    }
   },
   "outputs": [],
   "source": [
    "with open(os.path.join(PIX3D_DIR, \"pix3d.json\")) as f:\n",
    "    pix3d_data_json = json.loads(f.read())\n",
    "# convert list of dicts into a dict (keyed by image path) of dicts\n",
    "pix3d_data_dict = { entry[\"img\"]:entry for entry in pix3d_data_json}"
   ]
  },
  {
   "cell_type": "code",
   "execution_count": null,
   "metadata": {},
   "outputs": [],
   "source": [
    "# opens image, and processes it by \n",
    "    "
   ]
  },
  {
   "cell_type": "code",
   "execution_count": 14,
   "metadata": {
    "ExecuteTime": {
     "end_time": "2020-07-24T04:31:49.294253Z",
     "start_time": "2020-07-24T03:44:02.338552Z"
    },
    "scrolled": false
   },
   "outputs": [],
   "source": [
    "# copies files from pix3d and pix3d.build into new pix3d_processed folder.\n",
    "# images are cropped to have the chair in the center; versions with and without BG are provided;\n",
    "# points are rotated 90 degrees CCW about y-axis to orient chairs to shapenet (need to check if this is the case for other classes as well)\n",
    "# https://stackoverflow.com/questions/11142851/adding-borders-to-an-image-using-python\n",
    "for class_name in classes:\n",
    "    for root, dirs, files in os.walk(os.path.join(PIX3D_DIR, \"img\", class_name)):\n",
    "        for f in files:\n",
    "            \n",
    "            # getting paths of assets\n",
    "            image_name = f.replace(\".jpg\",\"\").replace(\".jpeg\", \"\").replace(\".png\",\"\")\n",
    "            image_path = os.path.join(root, f)\n",
    "            image_dict = pix3d_data_dict[image_path.replace(PIX3D_DIR+'/', \"\")]\n",
    "            mask_path = os.path.join(PIX3D_DIR, image_dict['mask'])\n",
    "            model_name = image_dict['model'].split('/')[2]\n",
    "            pointcloud_path = os.path.join(PIX3D_POINTS_DIR, class_name, \"4_pointcloud\", \"{}.npz\".format(model_name))\n",
    "            points_path = os.path.join(PIX3D_POINTS_DIR, class_name, \"4_points\", \"{}.npz\".format(model_name))\n",
    "            \n",
    "            processed_dir = os.path.join(OUT_DIR, class_name, image_name)\n",
    "            processed_img_dir = os.path.join(processed_dir, \"img_pix3d\")\n",
    "            \n",
    "            if not os.path.exists(processed_img_dir):\n",
    "                os.makedirs(processed_img_dir)\n",
    "                \n",
    "            # ------------------------------------------------------------------------------\n",
    "            # creating image\n",
    "            img = Image.open(image_path)\n",
    "            img_width = image_dict['img_size'][0]\n",
    "            img_height = image_dict['img_size'][1]\n",
    "            \n",
    "            # create expanded version of img\n",
    "            new_size = (max(img_height, img_width)+100, max(img_height, img_width)+100)\n",
    "            img_bordered = Image.new(\"RGB\", new_size, (255, 255, 255))\n",
    "            img_bordered.paste(img, (int((new_size[0]-image_dict['img_size'][0])/2),int((new_size[1]-image_dict['img_size'][1])/2)))\n",
    "            \n",
    "            # processing mask\n",
    "            mask = Image.open(mask_path)\n",
    "            img_masked = Image.composite(Image.new(\"RGB\", image_dict['img_size'], (255, 255, 255)), img, PIL.ImageOps.invert(mask))\n",
    "            img_bordered_mask = Image.new(\"RGB\", new_size, (255, 255, 255))\n",
    "            img_bordered_mask.paste(img_masked, (int((new_size[0]-image_dict['img_size'][0])/2),int((new_size[1]-image_dict['img_size'][1])/2)))\n",
    "            \n",
    "            # creating square, centered crop\n",
    "            bbox_height = image_dict['bbox'][3] - image_dict['bbox'][1]\n",
    "            bbox_width = image_dict['bbox'][2] - image_dict['bbox'][0]\n",
    "            \n",
    "            # adjusting bbox to match after expanding image\n",
    "            if img_height > img_width:\n",
    "                img_new_bbox = [image_dict['bbox'][0]+50+(img_height-img_width)/2, image_dict['bbox'][1]+50, image_dict['bbox'][2]+50+(img_height-img_width)/2, image_dict['bbox'][3]+50]\n",
    "            else:\n",
    "                img_new_bbox = [image_dict['bbox'][0]+50, image_dict['bbox'][1]+50+(img_width-img_height)/2, image_dict['bbox'][2]+50, image_dict['bbox'][3]+50+(img_width-img_height)/2]\n",
    "            \n",
    "            # adjusting bbox so it's a square\n",
    "            #TODO: correct possible off-by-one error in image size\n",
    "            if bbox_height > bbox_width:\n",
    "                img_new_bbox[0]-=(bbox_height-bbox_width)/2\n",
    "                img_new_bbox[2]+=(bbox_height-bbox_width)/2\n",
    "            else:\n",
    "                img_new_bbox[1]-=(bbox_width-bbox_height)/2\n",
    "                img_new_bbox[3]+=(bbox_width-bbox_height)/2\n",
    "            \n",
    "            img_bordered = img_bordered.crop(img_new_bbox)\n",
    "            img_bordered.save(os.path.join(processed_img_dir,'bg.jpg'))\n",
    "            img_bordered_mask = img_bordered_mask.crop(img_new_bbox)\n",
    "            img_bordered_mask.save(os.path.join(processed_img_dir,'no_bg.jpg'))\n",
    "            \n",
    "\n",
    "            # ------------------------------------------------------------------------------\n",
    "            # creating points/pointclouds\n",
    "            # y-axis ccw by 90 deg\n",
    "            rot_mat = np.array([[0,0,1],[0,1,0],[-1,0,0]])\n",
    "            pc = np.load(pointcloud_path)\n",
    "            np.savez(os.path.join(processed_dir,'pointcloud.npz'), points=pc[\"points\"] @ rot_mat,\n",
    "                     normals=pc[\"normals\"] @ rot_mat, loc=pc[\"loc\"], scale=pc[\"scale\"])\n",
    "            \n",
    "            p = np.load(points_path)\n",
    "            np.savez(os.path.join(processed_dir,'points.npz'), points=p[\"points\"] @ rot_mat,\n",
    "                     occupancies=p[\"occupancies\"], loc=p[\"loc\"], scale=p[\"scale\"])  \n",
    "            \n",
    "            \n",
    "            "
   ]
  },
  {
   "cell_type": "code",
   "execution_count": 22,
   "metadata": {
    "ExecuteTime": {
     "end_time": "2020-07-24T07:26:45.251351Z",
     "start_time": "2020-07-24T07:26:45.094202Z"
    }
   },
   "outputs": [],
   "source": [
    "# create split lsts. For pix3d, it's only a test set\n",
    "for class_name in classes:\n",
    "    class_img_codes = [ code.split('/')[2][:4] for code in list(pix3d_data_dict.keys()) if class_name in code ]\n",
    "    with open (os.path.join(OUT_DIR, class_name, \"train.lst\"), 'w') as f:\n",
    "        pass\n",
    "    with open (os.path.join(OUT_DIR, class_name, \"val.lst\"), 'w') as f:\n",
    "        pass\n",
    "    with open (os.path.join(OUT_DIR, class_name, \"test.lst\"), 'w') as f:\n",
    "        for img_code in class_img_codes:\n",
    "            f.write(\"{}\\n\".format(img_code))"
   ]
  },
  {
   "cell_type": "code",
   "execution_count": null,
   "metadata": {},
   "outputs": [],
   "source": []
  },
  {
   "cell_type": "code",
   "execution_count": null,
   "metadata": {},
   "outputs": [],
   "source": []
  },
  {
   "cell_type": "code",
   "execution_count": null,
   "metadata": {},
   "outputs": [],
   "source": []
  },
  {
   "cell_type": "code",
   "execution_count": null,
   "metadata": {},
   "outputs": [],
   "source": []
  },
  {
   "cell_type": "code",
   "execution_count": null,
   "metadata": {},
   "outputs": [],
   "source": []
  }
 ],
 "metadata": {
  "kernelspec": {
   "display_name": "Python 3",
   "language": "python",
   "name": "python3"
  },
  "language_info": {
   "codemirror_mode": {
    "name": "ipython",
    "version": 3
   },
   "file_extension": ".py",
   "mimetype": "text/x-python",
   "name": "python",
   "nbconvert_exporter": "python",
   "pygments_lexer": "ipython3",
   "version": "3.7.6"
  },
  "varInspector": {
   "cols": {
    "lenName": 16,
    "lenType": 16,
    "lenVar": 40
   },
   "kernels_config": {
    "python": {
     "delete_cmd_postfix": "",
     "delete_cmd_prefix": "del ",
     "library": "var_list.py",
     "varRefreshCmd": "print(var_dic_list())"
    },
    "r": {
     "delete_cmd_postfix": ") ",
     "delete_cmd_prefix": "rm(",
     "library": "var_list.r",
     "varRefreshCmd": "cat(var_dic_list()) "
    }
   },
   "oldHeight": 731.4,
   "position": {
    "height": "753.4px",
    "left": "1193px",
    "right": "20px",
    "top": "166px",
    "width": "800px"
   },
   "types_to_exclude": [
    "module",
    "function",
    "builtin_function_or_method",
    "instance",
    "_Feature"
   ],
   "varInspector_section_display": "block",
   "window_display": false
  }
 },
 "nbformat": 4,
 "nbformat_minor": 4
}
